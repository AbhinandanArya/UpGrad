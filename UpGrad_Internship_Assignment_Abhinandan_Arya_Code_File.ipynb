{
 "cells": [
  {
   "cell_type": "markdown",
   "metadata": {},
   "source": [
    "### Problem Statement\n",
    "The Portuguese Bank had run a telemarketing campaign in the past, making sales calls for a term-deposit product. Whether a prospect had bought the product or not is mentioned in the column named 'response'.\n",
    "\n",
    "The marketing team wants to launch another campaign, and they want to learn from the past one. You, as an analyst, decide to build a supervised model in R/Python and achieve the following goals:\n",
    "- Reduce the marketing cost by X% and acquire Y% of the prospects (compared to random calling), where X and Y are to be maximized\n",
    "- Present the financial benefit of this project to the marketing team"
   ]
  },
  {
   "cell_type": "code",
   "execution_count": 66,
   "metadata": {},
   "outputs": [],
   "source": [
    "import pandas as pd\n",
    "import numpy as np\n",
    "import seaborn as sns\n",
    "import matplotlib.pyplot as plt\n",
    "import warnings\n",
    "warnings.filterwarnings('ignore')\n",
    "\n",
    "import math\n",
    "\n",
    "from sklearn.model_selection import train_test_split , cross_val_score\n",
    "from sklearn.metrics import accuracy_score , classification_report \n",
    "from sklearn.preprocessing  import LabelEncoder \n",
    "\n",
    "from sklearn.tree import DecisionTreeClassifier\n",
    "from sklearn.ensemble import RandomForestClassifier , AdaBoostClassifier , GradientBoostingClassifier \n",
    "from xgboost import XGBClassifier\n",
    "\n",
    "from sklearn.linear_model import LogisticRegression , LogisticRegressionCV"
   ]
  },
  {
   "cell_type": "code",
   "execution_count": 67,
   "metadata": {},
   "outputs": [],
   "source": [
    "bank = pd.read_csv(\"D:/UpGrad/bank-additional-full.csv\", sep = ';')"
   ]
  },
  {
   "cell_type": "code",
   "execution_count": 68,
   "metadata": {},
   "outputs": [
    {
     "data": {
      "text/plain": [
       "(41188, 21)"
      ]
     },
     "execution_count": 68,
     "metadata": {},
     "output_type": "execute_result"
    }
   ],
   "source": [
    "bank.shape"
   ]
  },
  {
   "cell_type": "code",
   "execution_count": 69,
   "metadata": {},
   "outputs": [
    {
     "data": {
      "text/html": [
       "<div>\n",
       "<style scoped>\n",
       "    .dataframe tbody tr th:only-of-type {\n",
       "        vertical-align: middle;\n",
       "    }\n",
       "\n",
       "    .dataframe tbody tr th {\n",
       "        vertical-align: top;\n",
       "    }\n",
       "\n",
       "    .dataframe thead th {\n",
       "        text-align: right;\n",
       "    }\n",
       "</style>\n",
       "<table border=\"1\" class=\"dataframe\">\n",
       "  <thead>\n",
       "    <tr style=\"text-align: right;\">\n",
       "      <th></th>\n",
       "      <th>age</th>\n",
       "      <th>job</th>\n",
       "      <th>marital</th>\n",
       "      <th>education</th>\n",
       "      <th>default</th>\n",
       "      <th>housing</th>\n",
       "      <th>loan</th>\n",
       "      <th>contact</th>\n",
       "      <th>month</th>\n",
       "      <th>day_of_week</th>\n",
       "      <th>...</th>\n",
       "      <th>campaign</th>\n",
       "      <th>pdays</th>\n",
       "      <th>previous</th>\n",
       "      <th>poutcome</th>\n",
       "      <th>emp.var.rate</th>\n",
       "      <th>cons.price.idx</th>\n",
       "      <th>cons.conf.idx</th>\n",
       "      <th>euribor3m</th>\n",
       "      <th>nr.employed</th>\n",
       "      <th>y</th>\n",
       "    </tr>\n",
       "  </thead>\n",
       "  <tbody>\n",
       "    <tr>\n",
       "      <th>0</th>\n",
       "      <td>56</td>\n",
       "      <td>housemaid</td>\n",
       "      <td>married</td>\n",
       "      <td>basic.4y</td>\n",
       "      <td>no</td>\n",
       "      <td>no</td>\n",
       "      <td>no</td>\n",
       "      <td>telephone</td>\n",
       "      <td>may</td>\n",
       "      <td>mon</td>\n",
       "      <td>...</td>\n",
       "      <td>1</td>\n",
       "      <td>999</td>\n",
       "      <td>0</td>\n",
       "      <td>nonexistent</td>\n",
       "      <td>1.1</td>\n",
       "      <td>93.994</td>\n",
       "      <td>-36.4</td>\n",
       "      <td>4.857</td>\n",
       "      <td>5191.0</td>\n",
       "      <td>no</td>\n",
       "    </tr>\n",
       "    <tr>\n",
       "      <th>1</th>\n",
       "      <td>57</td>\n",
       "      <td>services</td>\n",
       "      <td>married</td>\n",
       "      <td>high.school</td>\n",
       "      <td>unknown</td>\n",
       "      <td>no</td>\n",
       "      <td>no</td>\n",
       "      <td>telephone</td>\n",
       "      <td>may</td>\n",
       "      <td>mon</td>\n",
       "      <td>...</td>\n",
       "      <td>1</td>\n",
       "      <td>999</td>\n",
       "      <td>0</td>\n",
       "      <td>nonexistent</td>\n",
       "      <td>1.1</td>\n",
       "      <td>93.994</td>\n",
       "      <td>-36.4</td>\n",
       "      <td>4.857</td>\n",
       "      <td>5191.0</td>\n",
       "      <td>no</td>\n",
       "    </tr>\n",
       "    <tr>\n",
       "      <th>2</th>\n",
       "      <td>37</td>\n",
       "      <td>services</td>\n",
       "      <td>married</td>\n",
       "      <td>high.school</td>\n",
       "      <td>no</td>\n",
       "      <td>yes</td>\n",
       "      <td>no</td>\n",
       "      <td>telephone</td>\n",
       "      <td>may</td>\n",
       "      <td>mon</td>\n",
       "      <td>...</td>\n",
       "      <td>1</td>\n",
       "      <td>999</td>\n",
       "      <td>0</td>\n",
       "      <td>nonexistent</td>\n",
       "      <td>1.1</td>\n",
       "      <td>93.994</td>\n",
       "      <td>-36.4</td>\n",
       "      <td>4.857</td>\n",
       "      <td>5191.0</td>\n",
       "      <td>no</td>\n",
       "    </tr>\n",
       "    <tr>\n",
       "      <th>3</th>\n",
       "      <td>40</td>\n",
       "      <td>admin.</td>\n",
       "      <td>married</td>\n",
       "      <td>basic.6y</td>\n",
       "      <td>no</td>\n",
       "      <td>no</td>\n",
       "      <td>no</td>\n",
       "      <td>telephone</td>\n",
       "      <td>may</td>\n",
       "      <td>mon</td>\n",
       "      <td>...</td>\n",
       "      <td>1</td>\n",
       "      <td>999</td>\n",
       "      <td>0</td>\n",
       "      <td>nonexistent</td>\n",
       "      <td>1.1</td>\n",
       "      <td>93.994</td>\n",
       "      <td>-36.4</td>\n",
       "      <td>4.857</td>\n",
       "      <td>5191.0</td>\n",
       "      <td>no</td>\n",
       "    </tr>\n",
       "    <tr>\n",
       "      <th>4</th>\n",
       "      <td>56</td>\n",
       "      <td>services</td>\n",
       "      <td>married</td>\n",
       "      <td>high.school</td>\n",
       "      <td>no</td>\n",
       "      <td>no</td>\n",
       "      <td>yes</td>\n",
       "      <td>telephone</td>\n",
       "      <td>may</td>\n",
       "      <td>mon</td>\n",
       "      <td>...</td>\n",
       "      <td>1</td>\n",
       "      <td>999</td>\n",
       "      <td>0</td>\n",
       "      <td>nonexistent</td>\n",
       "      <td>1.1</td>\n",
       "      <td>93.994</td>\n",
       "      <td>-36.4</td>\n",
       "      <td>4.857</td>\n",
       "      <td>5191.0</td>\n",
       "      <td>no</td>\n",
       "    </tr>\n",
       "  </tbody>\n",
       "</table>\n",
       "<p>5 rows × 21 columns</p>\n",
       "</div>"
      ],
      "text/plain": [
       "   age        job  marital    education  default housing loan    contact  \\\n",
       "0   56  housemaid  married     basic.4y       no      no   no  telephone   \n",
       "1   57   services  married  high.school  unknown      no   no  telephone   \n",
       "2   37   services  married  high.school       no     yes   no  telephone   \n",
       "3   40     admin.  married     basic.6y       no      no   no  telephone   \n",
       "4   56   services  married  high.school       no      no  yes  telephone   \n",
       "\n",
       "  month day_of_week ...  campaign  pdays  previous     poutcome emp.var.rate  \\\n",
       "0   may         mon ...         1    999         0  nonexistent          1.1   \n",
       "1   may         mon ...         1    999         0  nonexistent          1.1   \n",
       "2   may         mon ...         1    999         0  nonexistent          1.1   \n",
       "3   may         mon ...         1    999         0  nonexistent          1.1   \n",
       "4   may         mon ...         1    999         0  nonexistent          1.1   \n",
       "\n",
       "   cons.price.idx  cons.conf.idx  euribor3m  nr.employed   y  \n",
       "0          93.994          -36.4      4.857       5191.0  no  \n",
       "1          93.994          -36.4      4.857       5191.0  no  \n",
       "2          93.994          -36.4      4.857       5191.0  no  \n",
       "3          93.994          -36.4      4.857       5191.0  no  \n",
       "4          93.994          -36.4      4.857       5191.0  no  \n",
       "\n",
       "[5 rows x 21 columns]"
      ]
     },
     "execution_count": 69,
     "metadata": {},
     "output_type": "execute_result"
    }
   ],
   "source": [
    "bank.head()"
   ]
  },
  {
   "cell_type": "code",
   "execution_count": 70,
   "metadata": {},
   "outputs": [
    {
     "data": {
      "text/plain": [
       "age               0.0\n",
       "job               0.0\n",
       "marital           0.0\n",
       "education         0.0\n",
       "default           0.0\n",
       "housing           0.0\n",
       "loan              0.0\n",
       "contact           0.0\n",
       "month             0.0\n",
       "day_of_week       0.0\n",
       "duration          0.0\n",
       "campaign          0.0\n",
       "pdays             0.0\n",
       "previous          0.0\n",
       "poutcome          0.0\n",
       "emp.var.rate      0.0\n",
       "cons.price.idx    0.0\n",
       "cons.conf.idx     0.0\n",
       "euribor3m         0.0\n",
       "nr.employed       0.0\n",
       "y                 0.0\n",
       "dtype: float64"
      ]
     },
     "execution_count": 70,
     "metadata": {},
     "output_type": "execute_result"
    }
   ],
   "source": [
    "bank.isnull().sum() / len(bank) * 100\n",
    "\n",
    "# So there are no missing values in the data"
   ]
  },
  {
   "cell_type": "code",
   "execution_count": 71,
   "metadata": {},
   "outputs": [],
   "source": [
    "# Lets rename the y column to give a proper understanding\n",
    "\n",
    "bank = bank.rename(columns={'y': 'Product_Bought'})"
   ]
  },
  {
   "cell_type": "code",
   "execution_count": 72,
   "metadata": {},
   "outputs": [
    {
     "data": {
      "text/plain": [
       "no     88.734583\n",
       "yes    11.265417\n",
       "Name: Product_Bought, dtype: float64"
      ]
     },
     "execution_count": 72,
     "metadata": {},
     "output_type": "execute_result"
    }
   ],
   "source": [
    "bank['Product_Bought'].value_counts() / len(bank) * 100\n",
    "\n",
    "# So right now we have 11 % people who actually brought the product from the campaign conducted by the portuguese bank"
   ]
  },
  {
   "cell_type": "code",
   "execution_count": 73,
   "metadata": {},
   "outputs": [
    {
     "data": {
      "image/png": "[encoded data removed]",
      "text/plain": [
       "<Figure size 1382.4x576 with 12 Axes>"
      ]
     },
     "metadata": {},
     "output_type": "display_data"
    },
    {
     "name": "stdout",
     "output_type": "stream",
     "text": [
      "Percentage of conversion when a customer has a job of Admin: \n",
      "no     87.027442\n",
      "yes    12.972558\n",
      "Name: Product_Bought, dtype: float64\n",
      "------\n",
      "------\n",
      "Percentage of conversion when a customer has a job of Blue-Collar: \n",
      "no     93.105684\n",
      "yes     6.894316\n",
      "Name: Product_Bought, dtype: float64\n",
      "------\n",
      "------\n"
     ]
    }
   ],
   "source": [
    "# lets do some visualisation \n",
    "\n",
    "# Lets check the various job roles that have bought our product\n",
    "\n",
    "sns.set(font_scale=1.4)\n",
    "sns.set_style('whitegrid')\n",
    "\n",
    "sns.factorplot(\"Product_Bought\", col=\"job\",col_wrap=6,\n",
    "                 data=bank,\n",
    "                 kind=\"count\", aspect=.8 ,palette=[\"C\", \"y\"])\n",
    "\n",
    "plt.show()\n",
    "\n",
    "print('Percentage of conversion when a customer has a job of Admin: ')\n",
    "print(bank[bank['job']=='admin.']['Product_Bought'].value_counts() / len(bank[bank['job']=='admin.'])*100)\n",
    "print('------')\n",
    "print('------')\n",
    "print('Percentage of conversion when a customer has a job of Blue-Collar: ')\n",
    "print(bank[bank['job']=='blue-collar']['Product_Bought'].value_counts() / len(bank[bank['job']=='blue-collar'])*100)\n",
    "print('------')\n",
    "print('------')"
   ]
  },
  {
   "cell_type": "markdown",
   "metadata": {},
   "source": [
    "#### What do we get from the above plot ?\n",
    "\n",
    "- Less number of housemaids have bought the product\n",
    "- less number of unknown people have bought the product\n",
    "- Even after marketing and targeting a lot to 'Admin' , 'Blue-Collar' job roles our products sold are comparatively less\n",
    "- So we need come up with something that will focus on Blue-Collar Job rolls, as we are getting lowest conversion even after spending a lot of marketing cost on them"
   ]
  },
  {
   "cell_type": "code",
   "execution_count": 74,
   "metadata": {},
   "outputs": [
    {
     "data": {
      "image/png": "[encoded data removed]",
      "text/plain": [
       "<Figure size 921.6x288 with 4 Axes>"
      ]
     },
     "metadata": {},
     "output_type": "display_data"
    }
   ],
   "source": [
    "# Lets check for Marital Status\n",
    "\n",
    "sns.set(font_scale=1.4)\n",
    "sns.set_style('whitegrid')\n",
    "\n",
    "sns.factorplot(\"Product_Bought\", col=\"marital\",\n",
    "                 data=bank,\n",
    "                 kind=\"count\", aspect=.8 ,palette=[\"C2\", \"y\"])\n",
    "\n",
    "plt.show()"
   ]
  },
  {
   "cell_type": "markdown",
   "metadata": {},
   "source": [
    "- So whose marital status is unknown hasn't bought any product"
   ]
  },
  {
   "cell_type": "code",
   "execution_count": 75,
   "metadata": {},
   "outputs": [
    {
     "data": {
      "image/png": "[encoded data removed]",
      "text/plain": [
       "<Figure size 921.6x576 with 8 Axes>"
      ]
     },
     "metadata": {},
     "output_type": "display_data"
    }
   ],
   "source": [
    "# Lets check for Education\n",
    "\n",
    "sns.set(font_scale=1.4)\n",
    "sns.set_style('whitegrid')\n",
    "\n",
    "sns.factorplot(\"Product_Bought\", col='education',col_wrap=4,\n",
    "                 data=bank,\n",
    "                 kind=\"count\", aspect=.8 ,palette=[\"C3\", \"g\"])\n",
    "\n",
    "plt.show()"
   ]
  },
  {
   "cell_type": "code",
   "execution_count": 76,
   "metadata": {},
   "outputs": [
    {
     "data": {
      "image/png": "[encoded data removed]",
      "text/plain": [
       "<Figure size 691.2x288 with 3 Axes>"
      ]
     },
     "metadata": {},
     "output_type": "display_data"
    },
    {
     "name": "stdout",
     "output_type": "stream",
     "text": [
      "Percentage of conversion when a customers credit risk default is unknown: \n",
      "no     94.84704\n",
      "yes     5.15296\n",
      "Name: Product_Bought, dtype: float64\n",
      "------\n",
      "------\n",
      "Percentage of conversion when a customer is not a credit risk default: \n",
      "no     87.121026\n",
      "yes    12.878974\n",
      "Name: Product_Bought, dtype: float64\n",
      "------\n",
      "------\n",
      "Percentage of conversion when a customer is a credit risk default: \n",
      "no    100.0\n",
      "Name: Product_Bought, dtype: float64\n",
      "------\n",
      "------\n"
     ]
    }
   ],
   "source": [
    "# Lets check for default\n",
    "\n",
    "sns.set(font_scale=1.4)\n",
    "sns.set_style('whitegrid')\n",
    "\n",
    "sns.factorplot(\"Product_Bought\", col=\"default\",\n",
    "                 data=bank,\n",
    "                 kind=\"count\", aspect=.8 ,palette=[\"C4\", \"0\"])\n",
    "\n",
    "plt.show()\n",
    "\n",
    "print('Percentage of conversion when a customers credit risk default is unknown: ')\n",
    "print(bank[bank['default']=='unknown']['Product_Bought'].value_counts() / len(bank[bank['default']=='unknown'])*100)\n",
    "print('------')\n",
    "print('------')\n",
    "print('Percentage of conversion when a customer is not a credit risk default: ')\n",
    "print(bank[bank['default']=='no']['Product_Bought'].value_counts() / len(bank[bank['default']=='no'])*100)\n",
    "print('------')\n",
    "print('------')\n",
    "print('Percentage of conversion when a customer is a credit risk default: ')\n",
    "print(bank[bank['default']=='yes']['Product_Bought'].value_counts() / len(bank[bank['default']=='yes'])*100)\n",
    "print('------')\n",
    "print('------')"
   ]
  },
  {
   "cell_type": "markdown",
   "metadata": {},
   "source": [
    "- Oh Great, a person who is a default hasn't bought any product"
   ]
  },
  {
   "cell_type": "code",
   "execution_count": 77,
   "metadata": {},
   "outputs": [
    {
     "data": {
      "image/png": "[encoded data removed]",
      "text/plain": [
       "<Figure size 691.2x288 with 3 Axes>"
      ]
     },
     "metadata": {},
     "output_type": "display_data"
    },
    {
     "name": "stdout",
     "output_type": "stream",
     "text": [
      "Percentage of conversion when a customer has housing loan: \n",
      "no     88.380608\n",
      "yes    11.619392\n",
      "Name: Product_Bought, dtype: float64\n",
      "------\n",
      "------\n",
      "Percentage of conversion when a customer does not have a housing loan: \n",
      "no     89.120395\n",
      "yes    10.879605\n",
      "Name: Product_Bought, dtype: float64\n",
      "------\n",
      "------\n",
      "Percentage of conversion when a customers housing loan status is unknown: \n",
      "no     89.191919\n",
      "yes    10.808081\n",
      "Name: Product_Bought, dtype: float64\n",
      "------\n",
      "------\n"
     ]
    }
   ],
   "source": [
    "# Lets check for Housing Loan\n",
    "\n",
    "sns.set(font_scale=1.4)\n",
    "sns.set_style('whitegrid')\n",
    "\n",
    "sns.factorplot(\"Product_Bought\", col=\"housing\",\n",
    "                 data=bank,\n",
    "                 kind=\"count\", aspect=.8 ,palette=[\"C5\", \"C1\"])\n",
    "\n",
    "plt.show()\n",
    "\n",
    "print('Percentage of conversion when a customer has housing loan: ')\n",
    "print(bank[bank['housing']=='yes']['Product_Bought'].value_counts() / len(bank[bank['housing']=='yes'])*100)\n",
    "print('------')\n",
    "print('------')\n",
    "print('Percentage of conversion when a customer does not have a housing loan: ')\n",
    "print(bank[bank['housing']=='no']['Product_Bought'].value_counts() / len(bank[bank['housing']=='no'])*100)\n",
    "print('------')\n",
    "print('------')\n",
    "print('Percentage of conversion when a customers housing loan status is unknown: ')\n",
    "print(bank[bank['housing']=='unknown']['Product_Bought'].value_counts() / len(bank[bank['housing']=='unknown'])*100)\n",
    "print('------')\n",
    "print('------')"
   ]
  },
  {
   "cell_type": "markdown",
   "metadata": {},
   "source": [
    "- It's somewhat equal, can't differentiate much"
   ]
  },
  {
   "cell_type": "code",
   "execution_count": 78,
   "metadata": {},
   "outputs": [
    {
     "data": {
      "image/png": "[encoded data removed]",
      "text/plain": [
       "<Figure size 691.2x288 with 3 Axes>"
      ]
     },
     "metadata": {},
     "output_type": "display_data"
    },
    {
     "name": "stdout",
     "output_type": "stream",
     "text": [
      "Percentage of conversion when a customer has loan: \n",
      "no     89.068502\n",
      "yes    10.931498\n",
      "Name: Product_Bought, dtype: float64\n",
      "------\n",
      "------\n",
      "Percentage of conversion when a customer does not have loan: \n",
      "no     88.659794\n",
      "yes    11.340206\n",
      "Name: Product_Bought, dtype: float64\n",
      "------\n",
      "------\n",
      "Percentage of conversion when a customers loan status is unknown : \n",
      "no     89.191919\n",
      "yes    10.808081\n",
      "Name: Product_Bought, dtype: float64\n",
      "------\n",
      "------\n"
     ]
    }
   ],
   "source": [
    "# Lets check for who has Loan\n",
    "\n",
    "sns.set(font_scale=1.4)\n",
    "sns.set_style('whitegrid')\n",
    "\n",
    "sns.factorplot(\"Product_Bought\", col=\"loan\",\n",
    "                 data=bank,\n",
    "                 kind=\"count\", aspect=.8 ,palette=[\"C6\", \"C2\"])\n",
    "\n",
    "plt.show()\n",
    "\n",
    "print('Percentage of conversion when a customer has loan: ')\n",
    "print(bank[bank['loan']=='yes']['Product_Bought'].value_counts() / len(bank[bank['loan']=='yes'])*100)\n",
    "print('------')\n",
    "print('------')\n",
    "print('Percentage of conversion when a customer does not have loan: ')\n",
    "print(bank[bank['loan']=='no']['Product_Bought'].value_counts() / len(bank[bank['loan']=='no'])*100)\n",
    "print('------')\n",
    "print('------')\n",
    "print('Percentage of conversion when a customers loan status is unknown : ')\n",
    "print(bank[bank['loan']=='unknown']['Product_Bought'].value_counts() / len(bank[bank['loan']=='unknown'])*100)\n",
    "print('------')\n",
    "print('------')"
   ]
  },
  {
   "cell_type": "markdown",
   "metadata": {},
   "source": [
    "- Those who have loan, even after calling them a lot less number of people buy our product"
   ]
  },
  {
   "cell_type": "code",
   "execution_count": 79,
   "metadata": {},
   "outputs": [
    {
     "data": {
      "image/png": "[encoded data removed]",
      "text/plain": [
       "<Figure size 1152x576 with 10 Axes>"
      ]
     },
     "metadata": {},
     "output_type": "display_data"
    },
    {
     "name": "stdout",
     "output_type": "stream",
     "text": [
      "Percentage of conversion in March: \n",
      "yes    50.549451\n",
      "no     49.450549\n",
      "Name: Product_Bought, dtype: float64\n",
      "------\n",
      "------\n",
      "Percentage of conversion in April: \n",
      "no     79.521277\n",
      "yes    20.478723\n",
      "Name: Product_Bought, dtype: float64\n",
      "------\n",
      "------\n",
      "Percentage of conversion in May: \n",
      "no     93.565255\n",
      "yes     6.434745\n",
      "Name: Product_Bought, dtype: float64\n",
      "------\n",
      "------\n",
      "Percentage of conversion in June: \n",
      "no     89.48853\n",
      "yes    10.51147\n",
      "Name: Product_Bought, dtype: float64\n",
      "------\n",
      "------\n",
      "Percentage of conversion in July: \n",
      "no     90.953443\n",
      "yes     9.046557\n",
      "Name: Product_Bought, dtype: float64\n",
      "------\n",
      "------\n",
      "Percentage of conversion in August: \n",
      "no     89.397863\n",
      "yes    10.602137\n",
      "Name: Product_Bought, dtype: float64\n",
      "------\n",
      "------\n",
      "Percentage of conversion in September: \n",
      "no     55.087719\n",
      "yes    44.912281\n",
      "Name: Product_Bought, dtype: float64\n",
      "------\n",
      "------\n",
      "Percentage of conversion in October: \n",
      "no     56.128134\n",
      "yes    43.871866\n",
      "Name: Product_Bought, dtype: float64\n",
      "------\n",
      "------\n",
      "Percentage of conversion in November: \n",
      "no     89.856133\n",
      "yes    10.143867\n",
      "Name: Product_Bought, dtype: float64\n",
      "------\n",
      "------\n",
      "Percentage of conversion in December: \n",
      "no     51.098901\n",
      "yes    48.901099\n",
      "Name: Product_Bought, dtype: float64\n",
      "------\n",
      "------\n"
     ]
    }
   ],
   "source": [
    "# Lets check In which month peole Bought our products\n",
    "\n",
    "sns.set(font_scale=1.4)\n",
    "sns.set_style('whitegrid')\n",
    "\n",
    "sns.factorplot(\"Product_Bought\", col='month',col_wrap=5,\n",
    "                 data=bank,\n",
    "                 kind=\"count\", aspect=.8 ,palette=[\"C7\", \"C5\"])\n",
    "\n",
    "plt.show()\n",
    "\n",
    "print('Percentage of conversion in March: ')\n",
    "print(bank[bank['month']=='mar']['Product_Bought'].value_counts() / len(bank[bank['month']=='mar'])*100)\n",
    "print('------')\n",
    "print('------')\n",
    "print('Percentage of conversion in April: ')\n",
    "print(bank[bank['month']=='apr']['Product_Bought'].value_counts() / len(bank[bank['month']=='apr'])*100)\n",
    "print('------')\n",
    "print('------')\n",
    "print('Percentage of conversion in May: ')\n",
    "print(bank[bank['month']=='may']['Product_Bought'].value_counts() / len(bank[bank['month']=='may'])*100)\n",
    "print('------')\n",
    "print('------')\n",
    "print('Percentage of conversion in June: ')\n",
    "print(bank[bank['month']=='jun']['Product_Bought'].value_counts() / len(bank[bank['month']=='jun'])*100)\n",
    "print('------')\n",
    "print('------')\n",
    "print('Percentage of conversion in July: ')\n",
    "print(bank[bank['month']=='jul']['Product_Bought'].value_counts() / len(bank[bank['month']=='jul'])*100)\n",
    "print('------')\n",
    "print('------')\n",
    "print('Percentage of conversion in August: ')\n",
    "print(bank[bank['month']=='aug']['Product_Bought'].value_counts() / len(bank[bank['month']=='aug'])*100)\n",
    "print('------')\n",
    "print('------')\n",
    "print('Percentage of conversion in September: ')\n",
    "print(bank[bank['month']=='sep']['Product_Bought'].value_counts() / len(bank[bank['month']=='sep'])*100)\n",
    "print('------')\n",
    "print('------')\n",
    "print('Percentage of conversion in October: ')\n",
    "print(bank[bank['month']=='oct']['Product_Bought'].value_counts() / len(bank[bank['month']=='oct'])*100)\n",
    "print('------')\n",
    "print('------')\n",
    "print('Percentage of conversion in November: ')\n",
    "print(bank[bank['month']=='nov']['Product_Bought'].value_counts() / len(bank[bank['month']=='nov'])*100)\n",
    "print('------')\n",
    "print('------')\n",
    "print('Percentage of conversion in December: ')\n",
    "print(bank[bank['month']=='dec']['Product_Bought'].value_counts() / len(bank[bank['month']=='dec'])*100)\n",
    "print('------')\n",
    "print('------')"
   ]
  },
  {
   "cell_type": "markdown",
   "metadata": {},
   "source": [
    "### With the above graph and conversion % we can say :\n",
    "- Increasing our Marketing cost in the the month of May , June, July , August we are not generating more sales , especially in the month of may\n",
    "- Whereas in the month of March, April , September, October and December , we are Marketing less but we are getting a good amount of sales"
   ]
  },
  {
   "cell_type": "code",
   "execution_count": 80,
   "metadata": {},
   "outputs": [
    {
     "data": {
      "image/png": "[encoded data removed]",
      "text/plain": [
       "<Figure size 460.8x288 with 2 Axes>"
      ]
     },
     "metadata": {},
     "output_type": "display_data"
    },
    {
     "name": "stdout",
     "output_type": "stream",
     "text": [
      "Percentage of conversion of Cellular Calling: \n",
      "no     85.262393\n",
      "yes    14.737607\n",
      "Name: Product_Bought, dtype: float64\n",
      "------\n",
      "------\n",
      "Percentage of conversion of Telephone Calling: \n",
      "no     94.768679\n",
      "yes     5.231321\n",
      "Name: Product_Bought, dtype: float64\n"
     ]
    }
   ],
   "source": [
    "# Lets check for contact type\n",
    "\n",
    "sns.set(font_scale=1.4)\n",
    "sns.set_style('whitegrid')\n",
    "\n",
    "sns.factorplot(\"Product_Bought\", col='contact',\n",
    "                 data=bank,\n",
    "                 kind=\"count\", aspect=.8 ,palette=[\"C8\", \"y\"])\n",
    "\n",
    "plt.show()\n",
    "\n",
    "bank_cellular = bank[bank['contact']=='cellular']\n",
    "bank_telephone = bank[bank['contact']=='telephone']\n",
    "\n",
    "print('Percentage of conversion of Cellular Calling: ')\n",
    "print(bank_cellular['Product_Bought'].value_counts() / len(bank_cellular)*100)\n",
    "print('------')\n",
    "print('------')\n",
    "print('Percentage of conversion of Telephone Calling: ')\n",
    "print(bank_telephone['Product_Bought'].value_counts() / len(bank_telephone)*100)"
   ]
  },
  {
   "cell_type": "markdown",
   "metadata": {},
   "source": [
    "- So calling on cellphone has an increased amount of conversion rate than on telephone"
   ]
  },
  {
   "cell_type": "code",
   "execution_count": 81,
   "metadata": {},
   "outputs": [
    {
     "data": {
      "image/png": "[encoded data removed]",
      "text/plain": [
       "<Figure size 1152x288 with 5 Axes>"
      ]
     },
     "metadata": {},
     "output_type": "display_data"
    }
   ],
   "source": [
    "# Lets check In which day of the week we sell more of our products\n",
    "\n",
    "sns.set(font_scale=1.4)\n",
    "sns.set_style('whitegrid')\n",
    "\n",
    "sns.factorplot(\"Product_Bought\", col='day_of_week',\n",
    "                 data=bank,\n",
    "                 kind=\"count\", aspect=.8 ,palette=[\"C9\", \"C4\"])\n",
    "\n",
    "plt.show()"
   ]
  },
  {
   "cell_type": "markdown",
   "metadata": {},
   "source": [
    "- Almost everyday our selling ratio is equal"
   ]
  },
  {
   "cell_type": "markdown",
   "metadata": {},
   "source": [
    "### Various insights that we got uptill now \n",
    "- Since \n",
    "    - Housemaid customers are giving us less no of sales\n",
    "    - Contact Customers whose marital status we dont know again provides us no sales\n",
    "    - Illiterate customers also din't buy our product\n",
    "    - Customers who is a default in credit risk again has 0 % of sales\n",
    "    - We will have to find a new medium for contacting those customers or we will have to plan a new stratergy to pull these customers interest into buying our product\n",
    "- As Contacting customers in the month of may  are giving us low sales, we will have to plan our stratergy for that as well"
   ]
  },
  {
   "cell_type": "markdown",
   "metadata": {},
   "source": [
    "### Lets dig some more into the data with other attributes"
   ]
  },
  {
   "cell_type": "code",
   "execution_count": 82,
   "metadata": {},
   "outputs": [
    {
     "data": {
      "text/plain": [
       "0    261\n",
       "1    149\n",
       "2    226\n",
       "3    151\n",
       "4    307\n",
       "Name: duration, dtype: int64"
      ]
     },
     "execution_count": 82,
     "metadata": {},
     "output_type": "execute_result"
    }
   ],
   "source": [
    "# Let us check the duration column which is in seconds\n",
    "\n",
    "bank['duration'].head()"
   ]
  },
  {
   "cell_type": "code",
   "execution_count": 83,
   "metadata": {},
   "outputs": [],
   "source": [
    "# Lets convert this seconds column into minutes\n",
    "\n",
    "bank['duration_minutes'] = bank['duration'] / 60"
   ]
  },
  {
   "cell_type": "code",
   "execution_count": 84,
   "metadata": {},
   "outputs": [
    {
     "data": {
      "text/plain": [
       "0    4.350000\n",
       "1    2.483333\n",
       "2    3.766667\n",
       "3    2.516667\n",
       "4    5.116667\n",
       "Name: duration_minutes, dtype: float64"
      ]
     },
     "execution_count": 84,
     "metadata": {},
     "output_type": "execute_result"
    }
   ],
   "source": [
    "bank['duration_minutes'].head()"
   ]
  },
  {
   "cell_type": "code",
   "execution_count": 85,
   "metadata": {},
   "outputs": [
    {
     "data": {
      "text/plain": [
       "81.96666666666667"
      ]
     },
     "execution_count": 85,
     "metadata": {},
     "output_type": "execute_result"
    }
   ],
   "source": [
    "bank['duration_minutes'].max()"
   ]
  },
  {
   "cell_type": "code",
   "execution_count": 86,
   "metadata": {},
   "outputs": [
    {
     "data": {
      "image/png": "[encoded data removed]",
      "text/plain": [
       "<Figure size 720x576 with 1 Axes>"
      ]
     },
     "metadata": {},
     "output_type": "display_data"
    }
   ],
   "source": [
    "# Lets check the distribution of duration_minutes column\n",
    "\n",
    "fig = plt.figure(figsize=(10,8))\n",
    "sns.set(font_scale=1.2)\n",
    "sns.set_style('whitegrid')\n",
    "\n",
    "\n",
    "sns.distplot(bank['duration_minutes'] , color='green')\n",
    "plt.xlabel('Minutes')\n",
    "plt.ylabel('Counts')\n",
    "plt.title('Distribution of Duration in Minutes')\n",
    "plt.show()"
   ]
  },
  {
   "cell_type": "markdown",
   "metadata": {},
   "source": [
    "- So our data is right skewed, fair enough"
   ]
  },
  {
   "cell_type": "code",
   "execution_count": 87,
   "metadata": {},
   "outputs": [],
   "source": [
    "discrete_minutes = [math.ceil(i) for i in bank['duration_minutes']]"
   ]
  },
  {
   "cell_type": "code",
   "execution_count": 88,
   "metadata": {},
   "outputs": [],
   "source": [
    "bank['duration_discrete_minutes'] = discrete_minutes"
   ]
  },
  {
   "cell_type": "code",
   "execution_count": 89,
   "metadata": {},
   "outputs": [
    {
     "data": {
      "text/plain": [
       "array([ 1,  2,  3,  4,  5,  6,  7,  8,  9, 10, 11, 12, 13, 19, 18, 23, 14,\n",
       "       22, 25, 16, 17, 15, 20, 56, 39, 35, 42, 28, 26, 27, 32, 21, 24, 29,\n",
       "       31, 30, 41, 37, 40, 33, 34, 43], dtype=int64)"
      ]
     },
     "execution_count": 89,
     "metadata": {},
     "output_type": "execute_result"
    }
   ],
   "source": [
    "### Lets see our campaign column\n",
    "\n",
    "bank['campaign'].unique()\n",
    "\n",
    "# So this column gives us how many times a customer was contacted in the campaign\n",
    "# This will tend to be a useful column, lets move ahead to check if we find something else"
   ]
  },
  {
   "cell_type": "code",
   "execution_count": 90,
   "metadata": {},
   "outputs": [
    {
     "data": {
      "text/plain": [
       "array([999,   6,   4,   3,   5,   1,   0,  10,   7,   8,   9,  11,   2,\n",
       "        12,  13,  14,  15,  16,  21,  17,  18,  22,  25,  26,  19,  27,\n",
       "        20], dtype=int64)"
      ]
     },
     "execution_count": 90,
     "metadata": {},
     "output_type": "execute_result"
    }
   ],
   "source": [
    "# Lets check on to pdays columns\n",
    "\n",
    "bank['pdays'].unique()\n",
    "\n",
    "# So this column gives us the difference in days a person was last contacted ( including previous campaign )\n",
    "# 999 shows the person was not contacted in previous campaign"
   ]
  },
  {
   "cell_type": "code",
   "execution_count": 91,
   "metadata": {},
   "outputs": [],
   "source": [
    "# Lets check how many people who were contacted for the first time in this campaign actually bought our product\n",
    "\n",
    "bank_999 = bank[bank['pdays'] == 999]"
   ]
  },
  {
   "cell_type": "code",
   "execution_count": 92,
   "metadata": {},
   "outputs": [
    {
     "data": {
      "text/plain": [
       "(39673, 23)"
      ]
     },
     "execution_count": 92,
     "metadata": {},
     "output_type": "execute_result"
    }
   ],
   "source": [
    "bank_999.shape\n",
    "\n",
    "# So we have maximum no of new customers"
   ]
  },
  {
   "cell_type": "code",
   "execution_count": 93,
   "metadata": {},
   "outputs": [
    {
     "data": {
      "text/plain": [
       "no     90.741814\n",
       "yes     9.258186\n",
       "Name: Product_Bought, dtype: float64"
      ]
     },
     "execution_count": 93,
     "metadata": {},
     "output_type": "execute_result"
    }
   ],
   "source": [
    "bank_999['Product_Bought'].value_counts() / len(bank_999) * 100"
   ]
  },
  {
   "cell_type": "code",
   "execution_count": 94,
   "metadata": {},
   "outputs": [],
   "source": [
    "# Lets check how many old customers bought our prdduct\n",
    "\n",
    "bank_old = bank[bank['pdays'] != 999]"
   ]
  },
  {
   "cell_type": "code",
   "execution_count": 95,
   "metadata": {},
   "outputs": [
    {
     "data": {
      "text/plain": [
       "(1515, 23)"
      ]
     },
     "execution_count": 95,
     "metadata": {},
     "output_type": "execute_result"
    }
   ],
   "source": [
    "bank_old.shape"
   ]
  },
  {
   "cell_type": "code",
   "execution_count": 96,
   "metadata": {},
   "outputs": [
    {
     "data": {
      "text/plain": [
       "yes    63.828383\n",
       "no     36.171617\n",
       "Name: Product_Bought, dtype: float64"
      ]
     },
     "execution_count": 96,
     "metadata": {},
     "output_type": "execute_result"
    }
   ],
   "source": [
    "bank_old['Product_Bought'].value_counts() / len(bank_old) * 100"
   ]
  },
  {
   "cell_type": "markdown",
   "metadata": {},
   "source": [
    "- WOAH! So maximum number of our old customers have bought the product, This is interesting\n",
    "- This means we can contact our old customers as well if we want to do another campaign for a new product"
   ]
  },
  {
   "cell_type": "code",
   "execution_count": 97,
   "metadata": {},
   "outputs": [],
   "source": [
    "# Lets dig some more into our old customers to see what we get\n",
    "\n",
    "bank_old_yes = bank_old[bank_old['Product_Bought'] == 'yes']\n",
    "bank_old_no = bank_old[bank_old['Product_Bought'] == 'no']"
   ]
  },
  {
   "cell_type": "code",
   "execution_count": 98,
   "metadata": {},
   "outputs": [
    {
     "data": {
      "image/png": "[encoded data removed]",
      "text/plain": [
       "<Figure size 720x576 with 1 Axes>"
      ]
     },
     "metadata": {},
     "output_type": "display_data"
    },
    {
     "data": {
      "image/png": "[encoded data removed]",
      "text/plain": [
       "<Figure size 720x576 with 1 Axes>"
      ]
     },
     "metadata": {},
     "output_type": "display_data"
    }
   ],
   "source": [
    "# Lets check the distribution of our days with old customers buying our product\n",
    "\n",
    "fig = plt.figure(figsize=(10,8))\n",
    "sns.set(font_scale=1.2)\n",
    "sns.set_style('whitegrid')\n",
    "\n",
    "sns.distplot(bank_old_yes['pdays'], color ='gold')\n",
    "plt.xlabel('Days')\n",
    "plt.title('Distribution of Days since last contact from previous campaign of old customers buying our product')\n",
    "plt.show()\n",
    "\n",
    "# Lets check the distribution of our days with old customers not buying our product\n",
    "\n",
    "fig = plt.figure(figsize=(10,8))\n",
    "sns.set(font_scale=1.2)\n",
    "sns.set_style('whitegrid')\n",
    "\n",
    "sns.distplot(bank_old_no['pdays'], color ='brown')\n",
    "plt.xlabel('Days')\n",
    "plt.title('Distribution of Days since last contact from previous campaign of old customers not buying our product')\n",
    "plt.show()"
   ]
  },
  {
   "cell_type": "markdown",
   "metadata": {},
   "source": [
    "- So we can say if we contact our old customers after 20 days approximately , he/she will tend to buy our product"
   ]
  },
  {
   "cell_type": "code",
   "execution_count": 99,
   "metadata": {},
   "outputs": [
    {
     "data": {
      "image/png": "[encoded data removed]",
      "text/plain": [
       "<Figure size 720x576 with 1 Axes>"
      ]
     },
     "metadata": {},
     "output_type": "display_data"
    },
    {
     "data": {
      "image/png": "[encoded data removed]",
      "text/plain": [
       "<Figure size 720x576 with 1 Axes>"
      ]
     },
     "metadata": {},
     "output_type": "display_data"
    }
   ],
   "source": [
    "# Lets check the distribution of our time with old customers buying our product\n",
    "\n",
    "fig = plt.figure(figsize=(10,8))\n",
    "sns.set(font_scale=1.2)\n",
    "sns.set_style('whitegrid')\n",
    "\n",
    "sns.distplot(bank_old_yes['duration_discrete_minutes'], color ='red')\n",
    "plt.xlabel('Minutes')\n",
    "plt.title('Distribution of Discrete Minutes of old customers buying our product')\n",
    "plt.show()\n",
    "\n",
    "# Lets check the distribution of our time with old customers not buying our product\n",
    "\n",
    "fig = plt.figure(figsize=(10,8))\n",
    "sns.set(font_scale=1.2)\n",
    "sns.set_style('whitegrid')\n",
    "\n",
    "sns.distplot(bank_old_no['duration_discrete_minutes'], color ='yellow')\n",
    "plt.xlabel('Minutes')\n",
    "plt.title('Distribution of Discrete Minutes of old customers not buying our product')\n",
    "plt.show()"
   ]
  },
  {
   "cell_type": "markdown",
   "metadata": {},
   "source": [
    "- This shows if we engage with our customers in the communication for more than 3 minutes to less than 15 minutes , our old customer will definitely buy our product\n",
    "- We can see if our old customers interact for less than 2-3 minutes , he/she will not buy our product"
   ]
  },
  {
   "cell_type": "code",
   "execution_count": 100,
   "metadata": {},
   "outputs": [
    {
     "data": {
      "text/html": [
       "<div>\n",
       "<style scoped>\n",
       "    .dataframe tbody tr th:only-of-type {\n",
       "        vertical-align: middle;\n",
       "    }\n",
       "\n",
       "    .dataframe tbody tr th {\n",
       "        vertical-align: top;\n",
       "    }\n",
       "\n",
       "    .dataframe thead th {\n",
       "        text-align: right;\n",
       "    }\n",
       "</style>\n",
       "<table border=\"1\" class=\"dataframe\">\n",
       "  <thead>\n",
       "    <tr style=\"text-align: right;\">\n",
       "      <th></th>\n",
       "      <th>age</th>\n",
       "      <th>job</th>\n",
       "      <th>marital</th>\n",
       "      <th>education</th>\n",
       "      <th>default</th>\n",
       "      <th>housing</th>\n",
       "      <th>loan</th>\n",
       "      <th>contact</th>\n",
       "      <th>month</th>\n",
       "      <th>day_of_week</th>\n",
       "      <th>...</th>\n",
       "      <th>previous</th>\n",
       "      <th>poutcome</th>\n",
       "      <th>emp.var.rate</th>\n",
       "      <th>cons.price.idx</th>\n",
       "      <th>cons.conf.idx</th>\n",
       "      <th>euribor3m</th>\n",
       "      <th>nr.employed</th>\n",
       "      <th>Product_Bought</th>\n",
       "      <th>duration_minutes</th>\n",
       "      <th>duration_discrete_minutes</th>\n",
       "    </tr>\n",
       "  </thead>\n",
       "  <tbody>\n",
       "    <tr>\n",
       "      <th>0</th>\n",
       "      <td>56</td>\n",
       "      <td>housemaid</td>\n",
       "      <td>married</td>\n",
       "      <td>basic.4y</td>\n",
       "      <td>no</td>\n",
       "      <td>no</td>\n",
       "      <td>no</td>\n",
       "      <td>telephone</td>\n",
       "      <td>may</td>\n",
       "      <td>mon</td>\n",
       "      <td>...</td>\n",
       "      <td>0</td>\n",
       "      <td>nonexistent</td>\n",
       "      <td>1.1</td>\n",
       "      <td>93.994</td>\n",
       "      <td>-36.4</td>\n",
       "      <td>4.857</td>\n",
       "      <td>5191.0</td>\n",
       "      <td>no</td>\n",
       "      <td>4.350000</td>\n",
       "      <td>5</td>\n",
       "    </tr>\n",
       "    <tr>\n",
       "      <th>1</th>\n",
       "      <td>57</td>\n",
       "      <td>services</td>\n",
       "      <td>married</td>\n",
       "      <td>high.school</td>\n",
       "      <td>unknown</td>\n",
       "      <td>no</td>\n",
       "      <td>no</td>\n",
       "      <td>telephone</td>\n",
       "      <td>may</td>\n",
       "      <td>mon</td>\n",
       "      <td>...</td>\n",
       "      <td>0</td>\n",
       "      <td>nonexistent</td>\n",
       "      <td>1.1</td>\n",
       "      <td>93.994</td>\n",
       "      <td>-36.4</td>\n",
       "      <td>4.857</td>\n",
       "      <td>5191.0</td>\n",
       "      <td>no</td>\n",
       "      <td>2.483333</td>\n",
       "      <td>3</td>\n",
       "    </tr>\n",
       "    <tr>\n",
       "      <th>2</th>\n",
       "      <td>37</td>\n",
       "      <td>services</td>\n",
       "      <td>married</td>\n",
       "      <td>high.school</td>\n",
       "      <td>no</td>\n",
       "      <td>yes</td>\n",
       "      <td>no</td>\n",
       "      <td>telephone</td>\n",
       "      <td>may</td>\n",
       "      <td>mon</td>\n",
       "      <td>...</td>\n",
       "      <td>0</td>\n",
       "      <td>nonexistent</td>\n",
       "      <td>1.1</td>\n",
       "      <td>93.994</td>\n",
       "      <td>-36.4</td>\n",
       "      <td>4.857</td>\n",
       "      <td>5191.0</td>\n",
       "      <td>no</td>\n",
       "      <td>3.766667</td>\n",
       "      <td>4</td>\n",
       "    </tr>\n",
       "    <tr>\n",
       "      <th>3</th>\n",
       "      <td>40</td>\n",
       "      <td>admin.</td>\n",
       "      <td>married</td>\n",
       "      <td>basic.6y</td>\n",
       "      <td>no</td>\n",
       "      <td>no</td>\n",
       "      <td>no</td>\n",
       "      <td>telephone</td>\n",
       "      <td>may</td>\n",
       "      <td>mon</td>\n",
       "      <td>...</td>\n",
       "      <td>0</td>\n",
       "      <td>nonexistent</td>\n",
       "      <td>1.1</td>\n",
       "      <td>93.994</td>\n",
       "      <td>-36.4</td>\n",
       "      <td>4.857</td>\n",
       "      <td>5191.0</td>\n",
       "      <td>no</td>\n",
       "      <td>2.516667</td>\n",
       "      <td>3</td>\n",
       "    </tr>\n",
       "    <tr>\n",
       "      <th>4</th>\n",
       "      <td>56</td>\n",
       "      <td>services</td>\n",
       "      <td>married</td>\n",
       "      <td>high.school</td>\n",
       "      <td>no</td>\n",
       "      <td>no</td>\n",
       "      <td>yes</td>\n",
       "      <td>telephone</td>\n",
       "      <td>may</td>\n",
       "      <td>mon</td>\n",
       "      <td>...</td>\n",
       "      <td>0</td>\n",
       "      <td>nonexistent</td>\n",
       "      <td>1.1</td>\n",
       "      <td>93.994</td>\n",
       "      <td>-36.4</td>\n",
       "      <td>4.857</td>\n",
       "      <td>5191.0</td>\n",
       "      <td>no</td>\n",
       "      <td>5.116667</td>\n",
       "      <td>6</td>\n",
       "    </tr>\n",
       "  </tbody>\n",
       "</table>\n",
       "<p>5 rows × 23 columns</p>\n",
       "</div>"
      ],
      "text/plain": [
       "   age        job  marital    education  default housing loan    contact  \\\n",
       "0   56  housemaid  married     basic.4y       no      no   no  telephone   \n",
       "1   57   services  married  high.school  unknown      no   no  telephone   \n",
       "2   37   services  married  high.school       no     yes   no  telephone   \n",
       "3   40     admin.  married     basic.6y       no      no   no  telephone   \n",
       "4   56   services  married  high.school       no      no  yes  telephone   \n",
       "\n",
       "  month day_of_week            ...              previous     poutcome  \\\n",
       "0   may         mon            ...                     0  nonexistent   \n",
       "1   may         mon            ...                     0  nonexistent   \n",
       "2   may         mon            ...                     0  nonexistent   \n",
       "3   may         mon            ...                     0  nonexistent   \n",
       "4   may         mon            ...                     0  nonexistent   \n",
       "\n",
       "   emp.var.rate  cons.price.idx cons.conf.idx  euribor3m  nr.employed  \\\n",
       "0           1.1          93.994         -36.4      4.857       5191.0   \n",
       "1           1.1          93.994         -36.4      4.857       5191.0   \n",
       "2           1.1          93.994         -36.4      4.857       5191.0   \n",
       "3           1.1          93.994         -36.4      4.857       5191.0   \n",
       "4           1.1          93.994         -36.4      4.857       5191.0   \n",
       "\n",
       "   Product_Bought  duration_minutes  duration_discrete_minutes  \n",
       "0              no          4.350000                          5  \n",
       "1              no          2.483333                          3  \n",
       "2              no          3.766667                          4  \n",
       "3              no          2.516667                          3  \n",
       "4              no          5.116667                          6  \n",
       "\n",
       "[5 rows x 23 columns]"
      ]
     },
     "execution_count": 100,
     "metadata": {},
     "output_type": "execute_result"
    }
   ],
   "source": [
    "### Hush! till now we got few good insight from our old clients , Lets get back to our new customers\n",
    "\n",
    "bank_999.head()"
   ]
  },
  {
   "cell_type": "code",
   "execution_count": 101,
   "metadata": {},
   "outputs": [],
   "source": [
    "bank_999['Product_Bought'] = np.where(bank_999['Product_Bought']=='yes',1,0)"
   ]
  },
  {
   "cell_type": "code",
   "execution_count": 102,
   "metadata": {},
   "outputs": [
    {
     "data": {
      "image/png": "[encoded data removed]",
      "text/plain": [
       "<Figure size 1080x1080 with 2 Axes>"
      ]
     },
     "metadata": {},
     "output_type": "display_data"
    }
   ],
   "source": [
    "# Lets check with some correlation matrix of how columns are correlated to or target column\n",
    "\n",
    "fig = plt.figure(figsize=(15,15))\n",
    "sns.set(font_scale=1.0)\n",
    "sns.set_style('whitegrid')\n",
    "\n",
    "bank_999_corr = bank_999.corr()\n",
    "\n",
    "sns.heatmap(bank_999_corr,cmap = 'copper' , annot = True )\n",
    "plt.show()\n",
    "\n",
    "# As the column is not of much importanc to us now because it only contains 999 values , lets drop it"
   ]
  },
  {
   "cell_type": "markdown",
   "metadata": {},
   "source": [
    "- We see some excellent correlation between the following columns :\n",
    "    - emp.var.rate\n",
    "    - cons.price.idx\n",
    "    - cons.conf.index\n",
    "    - euribor3m\n",
    "    - nr.employed\n",
    "    \n",
    "- We'll get back to this later, Till then lets check with the minutes column to find some interesting pattern"
   ]
  },
  {
   "cell_type": "code",
   "execution_count": 103,
   "metadata": {},
   "outputs": [],
   "source": [
    "bank_999 = bank_999.drop('pdays', axis = 1)"
   ]
  },
  {
   "cell_type": "code",
   "execution_count": 104,
   "metadata": {},
   "outputs": [],
   "source": [
    "# Lets make two subsets as to check some pattern with the minutes columns\n",
    "\n",
    "bank_999_yes = bank_999[bank_999['Product_Bought'] == 1]\n",
    "bank_999_no = bank_999[bank_999['Product_Bought'] == 0]"
   ]
  },
  {
   "cell_type": "code",
   "execution_count": 105,
   "metadata": {},
   "outputs": [
    {
     "data": {
      "image/png": "[encoded data removed]",
      "text/plain": [
       "<Figure size 720x576 with 1 Axes>"
      ]
     },
     "metadata": {},
     "output_type": "display_data"
    },
    {
     "data": {
      "image/png": "[encoded data removed]",
      "text/plain": [
       "<Figure size 720x576 with 1 Axes>"
      ]
     },
     "metadata": {},
     "output_type": "display_data"
    }
   ],
   "source": [
    "# Lets check the distribution of our time with new customers buying our product\n",
    "\n",
    "fig = plt.figure(figsize=(10,8))\n",
    "sns.set(font_scale=1.2)\n",
    "sns.set_style('whitegrid')\n",
    "\n",
    "sns.distplot(bank_999_yes['duration_discrete_minutes'], color ='purple')\n",
    "plt.xlabel('Minutes')\n",
    "plt.title('Distribution of Discrete Minutes of New customers buying our product')\n",
    "plt.show()\n",
    "\n",
    "# Lets check the distribution of our time with new customers not buying our product\n",
    "\n",
    "fig = plt.figure(figsize=(10,8))\n",
    "sns.set(font_scale=1.2)\n",
    "sns.set_style('whitegrid')\n",
    "\n",
    "sns.distplot(bank_999_no['duration_discrete_minutes'], color ='yellow')\n",
    "plt.xlabel('Minutes')\n",
    "plt.title('Distribution of Discrete Minutes of New customers not buying our product')\n",
    "plt.show()"
   ]
  },
  {
   "cell_type": "markdown",
   "metadata": {},
   "source": [
    "- We can have a sense now that if our new customers cut the call in less than 3 minutes they generally won't buy our product.\n",
    "- So if we try to engage our new customers for more than 4 minutes into the conversation , we may have a higher probability of that customer buying our product."
   ]
  },
  {
   "cell_type": "code",
   "execution_count": 106,
   "metadata": {},
   "outputs": [
    {
     "data": {
      "text/plain": [
       "age                            int64\n",
       "job                           object\n",
       "marital                       object\n",
       "education                     object\n",
       "default                       object\n",
       "housing                       object\n",
       "loan                          object\n",
       "contact                       object\n",
       "month                         object\n",
       "day_of_week                   object\n",
       "duration                       int64\n",
       "campaign                       int64\n",
       "previous                       int64\n",
       "poutcome                      object\n",
       "emp.var.rate                 float64\n",
       "cons.price.idx               float64\n",
       "cons.conf.idx                float64\n",
       "euribor3m                    float64\n",
       "nr.employed                  float64\n",
       "Product_Bought                 int32\n",
       "duration_minutes             float64\n",
       "duration_discrete_minutes      int64\n",
       "dtype: object"
      ]
     },
     "execution_count": 106,
     "metadata": {},
     "output_type": "execute_result"
    }
   ],
   "source": [
    "bank_999.dtypes"
   ]
  },
  {
   "cell_type": "code",
   "execution_count": 107,
   "metadata": {},
   "outputs": [
    {
     "data": {
      "text/plain": [
       "nonexistent    85.515927\n",
       "failure        14.484073\n",
       "Name: poutcome, dtype: float64"
      ]
     },
     "execution_count": 107,
     "metadata": {},
     "output_type": "execute_result"
    }
   ],
   "source": [
    "# Lets check poutcome colum \n",
    "\n",
    "# Lets calculate some percentage on the customers who bought our product\n",
    "\n",
    "bank_999_yes['poutcome'].value_counts() / len(bank_999_yes) * 100"
   ]
  },
  {
   "cell_type": "code",
   "execution_count": 108,
   "metadata": {},
   "outputs": [
    {
     "data": {
      "text/plain": [
       "0    85.515927\n",
       "1    12.278791\n",
       "2     1.878573\n",
       "3     0.245031\n",
       "4     0.081677\n",
       "Name: previous, dtype: float64"
      ]
     },
     "execution_count": 108,
     "metadata": {},
     "output_type": "execute_result"
    }
   ],
   "source": [
    "# Lets check previous and poutcome colum \n",
    "\n",
    "# Lets calculate some percentage on the customers who bought our product who was contacted previosuly\n",
    "\n",
    "bank_999_yes['previous'].value_counts() / len(bank_999_yes) * 100"
   ]
  },
  {
   "cell_type": "markdown",
   "metadata": {},
   "source": [
    "- This shows the failure of 14% that we had in the previous campaign, 12% of those customers bought our product, this is a huge success."
   ]
  },
  {
   "cell_type": "code",
   "execution_count": 109,
   "metadata": {},
   "outputs": [
    {
     "data": {
      "text/plain": [
       "nonexistent    90.061111\n",
       "failure         9.938889\n",
       "Name: poutcome, dtype: float64"
      ]
     },
     "execution_count": 109,
     "metadata": {},
     "output_type": "execute_result"
    }
   ],
   "source": [
    "# Lets check poutcome colum \n",
    "\n",
    "# Lets calculate some percentage on the customers who bought our product\n",
    "\n",
    "bank_999_no['poutcome'].value_counts() / len(bank_999_no) * 100"
   ]
  },
  {
   "cell_type": "code",
   "execution_count": 110,
   "metadata": {},
   "outputs": [
    {
     "data": {
      "text/plain": [
       "0    90.061111\n",
       "1     9.013889\n",
       "2     0.777778\n",
       "3     0.113889\n",
       "4     0.025000\n",
       "5     0.005556\n",
       "6     0.002778\n",
       "Name: previous, dtype: float64"
      ]
     },
     "execution_count": 110,
     "metadata": {},
     "output_type": "execute_result"
    }
   ],
   "source": [
    "# Lets calculate some percentage on the customers who dint buy our product who was contacted previosuly\n",
    "\n",
    "bank_999_no['previous'].value_counts() / len(bank_999_no) * 100"
   ]
  },
  {
   "cell_type": "markdown",
   "metadata": {},
   "source": [
    "- What do we understand ?\n",
    "    - When we contacted our customer just one time before the current campaign, we are getting a little increment in the percentage of conversion\n",
    "    - We are getting less conversion if we are contacting them continuously since 4-5 campaign, this might be because this product is not what they are looking for, So we'll have to come up with new schemes to gauge their attention in new campaigns as we cannot loose our customers."
   ]
  },
  {
   "cell_type": "code",
   "execution_count": 111,
   "metadata": {},
   "outputs": [
    {
     "data": {
      "text/plain": [
       " 1.4    16234\n",
       "-1.8     8731\n",
       " 1.1     7763\n",
       "-0.1     3648\n",
       "-2.9     1431\n",
       "-3.4      829\n",
       "-1.7      497\n",
       "-1.1      404\n",
       "-3.0      126\n",
       "-0.2       10\n",
       "Name: emp.var.rate, dtype: int64"
      ]
     },
     "execution_count": 111,
     "metadata": {},
     "output_type": "execute_result"
    }
   ],
   "source": [
    "# Lets check with the remaining columns of new customers\n",
    "\n",
    "bank_999['emp.var.rate'].value_counts()"
   ]
  },
  {
   "cell_type": "code",
   "execution_count": 112,
   "metadata": {},
   "outputs": [
    {
     "data": {
      "text/plain": [
       "93.994    7763\n",
       "93.918    6685\n",
       "92.893    5630\n",
       "93.444    5175\n",
       "94.465    4374\n",
       "93.200    3581\n",
       "93.075    2391\n",
       "92.963     643\n",
       "92.201     623\n",
       "92.431     372\n",
       "92.843     278\n",
       "92.649     246\n",
       "92.379     211\n",
       "94.215     206\n",
       "94.199     198\n",
       "93.369     178\n",
       "92.469     165\n",
       "94.055     147\n",
       "94.027     144\n",
       "93.876     128\n",
       "92.713     126\n",
       "93.749     126\n",
       "94.601     122\n",
       "94.767      84\n",
       "93.798      67\n",
       "92.756      10\n",
       "Name: cons.price.idx, dtype: int64"
      ]
     },
     "execution_count": 112,
     "metadata": {},
     "output_type": "execute_result"
    }
   ],
   "source": [
    "bank_999['cons.price.idx'].value_counts()"
   ]
  },
  {
   "cell_type": "code",
   "execution_count": 113,
   "metadata": {},
   "outputs": [
    {
     "data": {
      "text/plain": [
       "-36.4    7763\n",
       "-42.7    6685\n",
       "-46.2    5630\n",
       "-36.1    5175\n",
       "-41.8    4374\n",
       "-42.0    3581\n",
       "-47.1    2391\n",
       "-40.8     643\n",
       "-31.4     623\n",
       "-26.9     372\n",
       "-50.0     278\n",
       "-30.1     246\n",
       "-29.8     211\n",
       "-40.3     206\n",
       "-37.5     198\n",
       "-34.8     178\n",
       "-33.6     165\n",
       "-39.8     147\n",
       "-38.3     144\n",
       "-40.0     128\n",
       "-33.0     126\n",
       "-34.6     126\n",
       "-49.5     122\n",
       "-50.8      84\n",
       "-40.4      67\n",
       "-45.9      10\n",
       "Name: cons.conf.idx, dtype: int64"
      ]
     },
     "execution_count": 113,
     "metadata": {},
     "output_type": "execute_result"
    }
   ],
   "source": [
    "bank_999['cons.conf.idx'].value_counts()"
   ]
  },
  {
   "cell_type": "code",
   "execution_count": 114,
   "metadata": {},
   "outputs": [
    {
     "data": {
      "text/plain": [
       "5228.1    16234\n",
       "5099.1     8299\n",
       "5191.0     7763\n",
       "5195.8     3648\n",
       "5076.2     1431\n",
       "5017.5      829\n",
       "4991.6      497\n",
       "5008.7      432\n",
       "4963.6      404\n",
       "5023.5      126\n",
       "5176.3       10\n",
       "Name: nr.employed, dtype: int64"
      ]
     },
     "execution_count": 114,
     "metadata": {},
     "output_type": "execute_result"
    }
   ],
   "source": [
    "bank_999['nr.employed'].value_counts()"
   ]
  },
  {
   "cell_type": "markdown",
   "metadata": {},
   "source": [
    "- None of the above attributes gives any sense if the customer will buy the product or not."
   ]
  },
  {
   "cell_type": "markdown",
   "metadata": {},
   "source": [
    "### Here is the Summary of the insights that we got uptill now :\n",
    "- Since \n",
    "    - Housemaid customers are giving us less no. of sales\n",
    "    - Contact Customers whose marital status we dont know again provides us no sales\n",
    "    - Illiterate customers also din't buy our product\n",
    "    - Customers who is a default in credit risk again has 0 % of sales\n",
    "    - We will have to find a new medium for contacting those customers or we will have to plan a new stratergy to pull these customers interest into buying our product\n",
    "- As Contacting customers in the month of may  are giving us low sales, we will have to plan our stratergy for that as well\n",
    "\n",
    "### Regarding our Old customers\n",
    "- Contacting our old customers as well if we want to do another campaign for a new product\n",
    "- Also if we contact our old customers after 20 days approximately , he/she will tend to buy our product\n",
    "- And if we engage with our customers in the communication for more than 3 minutes to less than 15 minutes , our old customer will definitely buy our product\n",
    "\n",
    "### Regarding New Customers\n",
    "- If we try to engage our new customers for more than 4 minutes into the conversation , we may have a higher probability of that customer buying our product.\n",
    "- Coming up with new schemes to gauge their attention in new campaigns."
   ]
  },
  {
   "cell_type": "markdown",
   "metadata": {},
   "source": [
    "## Lets try to build a supervised model based on the above observation and see how accurate can our model be."
   ]
  },
  {
   "cell_type": "code",
   "execution_count": 115,
   "metadata": {},
   "outputs": [],
   "source": [
    "# Since our first observation states , this type of campaign is not attracting few customer so lets drop them\n",
    "\n",
    "bank_1 = bank.copy()\n",
    "\n",
    "bank_1 = bank_1[bank_1['marital'] != 'unknown']\n",
    "bank_1 = bank_1[bank_1['education'] != 'illiterate']\n",
    "bank_1 = bank_1[bank_1['default'] != 'yes']\n",
    "bank_1 = bank_1[bank_1['duration_discrete_minutes'] >= 3]\n",
    "bank_1['Product_Bought'] = np.where(bank_1['Product_Bought'] == 'yes' , 1 ,0)"
   ]
  },
  {
   "cell_type": "code",
   "execution_count": 116,
   "metadata": {},
   "outputs": [
    {
     "data": {
      "text/plain": [
       "0    84.189247\n",
       "1    15.810753\n",
       "Name: Product_Bought, dtype: float64"
      ]
     },
     "execution_count": 116,
     "metadata": {},
     "output_type": "execute_result"
    }
   ],
   "source": [
    "bank_1['Product_Bought'].value_counts() / len(bank_1) * 100"
   ]
  },
  {
   "cell_type": "code",
   "execution_count": 117,
   "metadata": {},
   "outputs": [
    {
     "name": "stdout",
     "output_type": "stream",
     "text": [
      "(19737, 62) (8459, 62) (19737,) (8459,)\n"
     ]
    }
   ],
   "source": [
    "df_train_y = bank_1['Product_Bought']\n",
    "df_train_x = bank_1.drop('Product_Bought', axis = 1)\n",
    "\n",
    "df_train_x_dummies = pd.get_dummies(df_train_x)\n",
    "\n",
    "train_x, test_x, train_y, test_y = train_test_split(df_train_x_dummies , df_train_y ,\n",
    "                                                   test_size = 0.3,\n",
    "                                                   random_state = 100)\n",
    "\n",
    "print(train_x.shape , test_x.shape,train_y.shape,test_y.shape)"
   ]
  },
  {
   "cell_type": "code",
   "execution_count": 118,
   "metadata": {},
   "outputs": [
    {
     "name": "stdout",
     "output_type": "stream",
     "text": [
      "(19737, 62) (8459, 62) (19737,) (8459,)\n"
     ]
    }
   ],
   "source": [
    "train_x, test_x, train_y, test_y = train_test_split(df_train_x_dummies , df_train_y ,\n",
    "                                                   test_size = 0.3,\n",
    "                                                   random_state = 100)\n",
    "\n",
    "print(train_x.shape , test_x.shape,train_y.shape,test_y.shape)"
   ]
  },
  {
   "cell_type": "code",
   "execution_count": 119,
   "metadata": {},
   "outputs": [
    {
     "data": {
      "text/plain": [
       "0    84.268126\n",
       "1    15.731874\n",
       "Name: Product_Bought, dtype: float64"
      ]
     },
     "execution_count": 119,
     "metadata": {},
     "output_type": "execute_result"
    }
   ],
   "source": [
    "train_y.value_counts() / len(train_y) * 100"
   ]
  },
  {
   "cell_type": "markdown",
   "metadata": {},
   "source": [
    "- So we have an imbalanced class here, let's see what we can do later"
   ]
  },
  {
   "cell_type": "code",
   "execution_count": 120,
   "metadata": {},
   "outputs": [
    {
     "name": "stdout",
     "output_type": "stream",
     "text": [
      "Accuracy :  87.09067265634236\n",
      "-----------\n",
      "Classification Report\n",
      "              precision    recall  f1-score   support\n",
      "\n",
      "           0       0.90      0.95      0.93      7106\n",
      "           1       0.64      0.43      0.52      1353\n",
      "\n",
      "   micro avg       0.87      0.87      0.87      8459\n",
      "   macro avg       0.77      0.69      0.72      8459\n",
      "weighted avg       0.86      0.87      0.86      8459\n",
      "\n"
     ]
    }
   ],
   "source": [
    "# Lets run our first model\n",
    "\n",
    "rf_model = RandomForestClassifier(class_weight='balanced')\n",
    "rf_model.fit(train_x,train_y)\n",
    "\n",
    "rf_pred = rf_model.predict(test_x)\n",
    "\n",
    "\n",
    "print('Accuracy : ', accuracy_score(test_y, rf_pred) * 100)\n",
    "print(\"-----------\")\n",
    "print('Classification Report')\n",
    "print(classification_report(test_y, rf_pred))\n",
    "\n",
    "# Since it is an imbalanced class we will go for F1 score as our Performance Metric"
   ]
  },
  {
   "cell_type": "code",
   "execution_count": 121,
   "metadata": {},
   "outputs": [
    {
     "name": "stdout",
     "output_type": "stream",
     "text": [
      "Accuracy :  87.55172006147298\n",
      "-----------\n",
      "Classification Report\n",
      "              precision    recall  f1-score   support\n",
      "\n",
      "           0       0.90      0.96      0.93      7106\n",
      "           1       0.69      0.41      0.51      1353\n",
      "\n",
      "   micro avg       0.88      0.88      0.88      8459\n",
      "   macro avg       0.79      0.69      0.72      8459\n",
      "weighted avg       0.86      0.88      0.86      8459\n",
      "\n"
     ]
    }
   ],
   "source": [
    "# Lets run our Second model\n",
    "\n",
    "ad_model = AdaBoostClassifier()\n",
    "ad_model.fit(train_x,train_y)\n",
    "\n",
    "ad_pred = ad_model.predict(test_x)\n",
    "\n",
    "print('Accuracy : ', accuracy_score(test_y, ad_pred) * 100)\n",
    "print(\"-----------\")\n",
    "print('Classification Report')\n",
    "print(classification_report(test_y, ad_pred))"
   ]
  },
  {
   "cell_type": "code",
   "execution_count": 122,
   "metadata": {},
   "outputs": [
    {
     "name": "stdout",
     "output_type": "stream",
     "text": [
      "Accuracy :  87.69358080151318\n",
      "-----------\n",
      "Classification Report\n",
      "              precision    recall  f1-score   support\n",
      "\n",
      "           0       0.90      0.96      0.93      7106\n",
      "           1       0.69      0.43      0.53      1353\n",
      "\n",
      "   micro avg       0.88      0.88      0.88      8459\n",
      "   macro avg       0.79      0.69      0.73      8459\n",
      "weighted avg       0.86      0.88      0.86      8459\n",
      "\n"
     ]
    }
   ],
   "source": [
    "# Lets run our Third model\n",
    "\n",
    "lg_model = LogisticRegression()\n",
    "lg_model.fit(train_x,train_y)\n",
    "\n",
    "lg_pred = lg_model.predict(test_x)\n",
    "\n",
    "print('Accuracy : ', accuracy_score(test_y, lg_pred) * 100)\n",
    "print(\"-----------\")\n",
    "print('Classification Report')\n",
    "print(classification_report(test_y, lg_pred))"
   ]
  },
  {
   "cell_type": "code",
   "execution_count": 123,
   "metadata": {},
   "outputs": [
    {
     "name": "stdout",
     "output_type": "stream",
     "text": [
      "Accuracy :  88.21373684832723\n",
      "-----------\n",
      "Classification Report\n",
      "              precision    recall  f1-score   support\n",
      "\n",
      "           0       0.91      0.95      0.93      7106\n",
      "           1       0.67      0.52      0.59      1353\n",
      "\n",
      "   micro avg       0.88      0.88      0.88      8459\n",
      "   macro avg       0.79      0.74      0.76      8459\n",
      "weighted avg       0.87      0.88      0.88      8459\n",
      "\n"
     ]
    }
   ],
   "source": [
    "# Lets run our Fourth model\n",
    "\n",
    "xgb_model = XGBClassifier()\n",
    "xgb_model.fit(train_x,train_y)\n",
    "\n",
    "xgb_pred = xgb_model.predict(test_x)\n",
    "\n",
    "print('Accuracy : ', accuracy_score(test_y, xgb_pred) * 100)\n",
    "print(\"-----------\")\n",
    "print('Classification Report')\n",
    "print(classification_report(test_y, xgb_pred))"
   ]
  },
  {
   "cell_type": "code",
   "execution_count": 124,
   "metadata": {},
   "outputs": [
    {
     "name": "stdout",
     "output_type": "stream",
     "text": [
      "Accuracy :  88.04823265161367\n",
      "-----------\n",
      "Classification Report\n",
      "              precision    recall  f1-score   support\n",
      "\n",
      "           0       0.95      0.90      0.93      7106\n",
      "           1       0.60      0.75      0.67      1353\n",
      "\n",
      "   micro avg       0.88      0.88      0.88      8459\n",
      "   macro avg       0.78      0.83      0.80      8459\n",
      "weighted avg       0.89      0.88      0.89      8459\n",
      "\n"
     ]
    }
   ],
   "source": [
    "# Lets run our Fourth model while tuning some parameters\n",
    "\n",
    "xgb_model = XGBClassifier(base_score=0.4, scale_pos_weight=2,n_estimators=150)\n",
    "xgb_model.fit(train_x,train_y)\n",
    "\n",
    "xgb_pred = xgb_model.predict(test_x)\n",
    "\n",
    "print('Accuracy : ', accuracy_score(test_y, xgb_pred) * 100)\n",
    "print(\"-----------\")\n",
    "print('Classification Report')\n",
    "print(classification_report(test_y, xgb_pred))\n",
    "\n",
    "# Here we have an increase in the F1 score for class 1, pretty good"
   ]
  },
  {
   "cell_type": "markdown",
   "metadata": {},
   "source": [
    "- Since we have imbalanced class here, let's play with some oversampling Technique to overcome the imbalanced nature."
   ]
  },
  {
   "cell_type": "code",
   "execution_count": 125,
   "metadata": {},
   "outputs": [],
   "source": [
    "from imblearn.over_sampling import SMOTE\n",
    "from imblearn.ensemble import BalancedRandomForestClassifier , BalancedBaggingClassifier"
   ]
  },
  {
   "cell_type": "code",
   "execution_count": 126,
   "metadata": {},
   "outputs": [],
   "source": [
    "os = SMOTE(random_state=0)\n",
    "\n",
    "os_data_x,os_data_y=os.fit_sample(train_x,train_y)\n",
    "os_data_x = pd.DataFrame(data=os_data_x,columns=train_x.columns )\n",
    "os_data_y= pd.DataFrame(data=os_data_y,columns=[\"Product_Bought\"])"
   ]
  },
  {
   "cell_type": "code",
   "execution_count": 127,
   "metadata": {},
   "outputs": [
    {
     "data": {
      "text/plain": [
       "((33264, 62), (33264, 1))"
      ]
     },
     "execution_count": 127,
     "metadata": {},
     "output_type": "execute_result"
    }
   ],
   "source": [
    "os_data_x.shape , os_data_y.shape"
   ]
  },
  {
   "cell_type": "code",
   "execution_count": 128,
   "metadata": {},
   "outputs": [
    {
     "name": "stdout",
     "output_type": "stream",
     "text": [
      "Accuracy :  87.76451117153327\n",
      "-----------\n",
      "Classification Report\n",
      "              precision    recall  f1-score   support\n",
      "\n",
      "           0       0.93      0.93      0.93      7106\n",
      "           1       0.62      0.62      0.62      1353\n",
      "\n",
      "   micro avg       0.88      0.88      0.88      8459\n",
      "   macro avg       0.77      0.77      0.77      8459\n",
      "weighted avg       0.88      0.88      0.88      8459\n",
      "\n"
     ]
    }
   ],
   "source": [
    "# Lets again run our model to see if we get some good results\n",
    "\n",
    "xgb_model = XGBClassifier(base_score=0.5, scale_pos_weight=1,n_estimators=80)\n",
    "xgb_model.fit(os_data_x,os_data_y)\n",
    "\n",
    "xgb_pred = xgb_model.predict(test_x)\n",
    "\n",
    "print('Accuracy : ', accuracy_score(test_y, xgb_pred) * 100)\n",
    "print(\"-----------\")\n",
    "print('Classification Report')\n",
    "print(classification_report(test_y, xgb_pred))\n",
    "\n",
    "# Here we dont get much increase in the F1 Score"
   ]
  },
  {
   "cell_type": "code",
   "execution_count": 129,
   "metadata": {},
   "outputs": [
    {
     "name": "stdout",
     "output_type": "stream",
     "text": [
      "Accuracy :  87.78815462820664\n",
      "-----------\n",
      "Classification Report\n",
      "              precision    recall  f1-score   support\n",
      "\n",
      "           0       0.92      0.93      0.93      7106\n",
      "           1       0.62      0.60      0.61      1353\n",
      "\n",
      "   micro avg       0.88      0.88      0.88      8459\n",
      "   macro avg       0.77      0.77      0.77      8459\n",
      "weighted avg       0.88      0.88      0.88      8459\n",
      "\n"
     ]
    }
   ],
   "source": [
    "# Lets again run our model using Balanced Classifiers to check some results\n",
    "\n",
    "brf_model = BalancedRandomForestClassifier(n_estimators=200 , criterion = 'gini',bootstrap=True,class_weight='balanced')\n",
    "brf_model.fit(os_data_x,os_data_y)\n",
    "\n",
    "brf_pred = brf_model.predict(test_x)\n",
    "\n",
    "print('Accuracy : ', accuracy_score(test_y, brf_pred) * 100)\n",
    "print(\"-----------\")\n",
    "print('Classification Report')\n",
    "print(classification_report(test_y, brf_pred))\n",
    "\n",
    "# Here we have an increase in the F1 score for class 1, pretty good"
   ]
  },
  {
   "cell_type": "code",
   "execution_count": 130,
   "metadata": {},
   "outputs": [
    {
     "name": "stdout",
     "output_type": "stream",
     "text": [
      "Accuracy :  86.7833077195886\n",
      "-----------\n",
      "Classification Report\n",
      "              precision    recall  f1-score   support\n",
      "\n",
      "           0       0.90      0.95      0.92      7106\n",
      "           1       0.62      0.46      0.53      1353\n",
      "\n",
      "   micro avg       0.87      0.87      0.87      8459\n",
      "   macro avg       0.76      0.70      0.72      8459\n",
      "weighted avg       0.86      0.87      0.86      8459\n",
      "\n"
     ]
    }
   ],
   "source": [
    "# Lets again run our model using Balanced Classifiers to check some results\n",
    "\n",
    "bbc_model = BalancedBaggingClassifier(base_estimator=AdaBoostClassifier(), n_estimators=50)\n",
    "bbc_model.fit(os_data_x,os_data_y)\n",
    "\n",
    "bbc_pred = bbc_model.predict(test_x)\n",
    "\n",
    "print('Accuracy : ', accuracy_score(test_y, bbc_pred) * 100)\n",
    "print(\"-----------\")\n",
    "print('Classification Report')\n",
    "print(classification_report(test_y, bbc_pred))"
   ]
  },
  {
   "cell_type": "markdown",
   "metadata": {},
   "source": [
    "- With all the models we say, XGBoostClassifier is giving us Better F1 Score, so XGB will serve better for our problem"
   ]
  },
  {
   "cell_type": "markdown",
   "metadata": {},
   "source": [
    "### Since our *DURATION OF CALL* attributes are highly correlated if the client will buy our product or not, let's drop it and check how our model performs then"
   ]
  },
  {
   "cell_type": "code",
   "execution_count": 131,
   "metadata": {},
   "outputs": [],
   "source": [
    "bank_2 = bank.copy()\n",
    "\n",
    "bank_2 = bank_2.drop(['duration','duration_minutes','duration_discrete_minutes'],axis = 1)\n",
    "bank_2['Product_Bought'] = np.where(bank_2['Product_Bought'] == 'yes' , 1 ,0)"
   ]
  },
  {
   "cell_type": "code",
   "execution_count": 132,
   "metadata": {},
   "outputs": [
    {
     "data": {
      "text/plain": [
       "0    88.734583\n",
       "1    11.265417\n",
       "Name: Product_Bought, dtype: float64"
      ]
     },
     "execution_count": 132,
     "metadata": {},
     "output_type": "execute_result"
    }
   ],
   "source": [
    "bank_2['Product_Bought'].value_counts() / len(bank_2) * 100"
   ]
  },
  {
   "cell_type": "code",
   "execution_count": 133,
   "metadata": {},
   "outputs": [
    {
     "name": "stdout",
     "output_type": "stream",
     "text": [
      "(28831, 62) (12357, 62) (28831,) (12357,)\n"
     ]
    }
   ],
   "source": [
    "df_train_y = bank_2['Product_Bought']\n",
    "df_train_x = bank_2.drop('Product_Bought', axis = 1)\n",
    "\n",
    "df_train_x_dummies = pd.get_dummies(df_train_x)\n",
    "\n",
    "train_x, test_x, train_y, test_y = train_test_split(df_train_x_dummies , df_train_y ,\n",
    "                                                   test_size = 0.3,\n",
    "                                                   random_state = 100)\n",
    "\n",
    "print(train_x.shape , test_x.shape,train_y.shape,test_y.shape)"
   ]
  },
  {
   "cell_type": "code",
   "execution_count": 134,
   "metadata": {},
   "outputs": [
    {
     "name": "stdout",
     "output_type": "stream",
     "text": [
      "(28831, 62) (12357, 62) (28831,) (12357,)\n"
     ]
    }
   ],
   "source": [
    "train_x, test_x, train_y, test_y = train_test_split(df_train_x_dummies , df_train_y ,\n",
    "                                                   test_size = 0.3,\n",
    "                                                   random_state = 100)\n",
    "\n",
    "print(train_x.shape , test_x.shape,train_y.shape,test_y.shape)"
   ]
  },
  {
   "cell_type": "code",
   "execution_count": 135,
   "metadata": {},
   "outputs": [
    {
     "name": "stdout",
     "output_type": "stream",
     "text": [
      "Accuracy :  88.88888888888889\n",
      "-----------\n",
      "Classification Report\n",
      "              precision    recall  f1-score   support\n",
      "\n",
      "           0       0.91      0.97      0.94     10975\n",
      "           1       0.51      0.25      0.34      1382\n",
      "\n",
      "   micro avg       0.89      0.89      0.89     12357\n",
      "   macro avg       0.71      0.61      0.64     12357\n",
      "weighted avg       0.87      0.89      0.87     12357\n",
      "\n"
     ]
    }
   ],
   "source": [
    "# Lets run our first model\n",
    "\n",
    "rf_model = RandomForestClassifier(class_weight='balanced')\n",
    "rf_model.fit(train_x,train_y)\n",
    "\n",
    "rf_pred = rf_model.predict(test_x)\n",
    "\n",
    "\n",
    "print('Accuracy : ', accuracy_score(test_y, rf_pred) * 100)\n",
    "print(\"-----------\")\n",
    "print('Classification Report')\n",
    "print(classification_report(test_y, rf_pred))"
   ]
  },
  {
   "cell_type": "code",
   "execution_count": 136,
   "metadata": {},
   "outputs": [
    {
     "name": "stdout",
     "output_type": "stream",
     "text": [
      "Accuracy :  90.09468317552805\n",
      "-----------\n",
      "Classification Report\n",
      "              precision    recall  f1-score   support\n",
      "\n",
      "           0       0.91      0.99      0.95     10975\n",
      "           1       0.68      0.22      0.33      1382\n",
      "\n",
      "   micro avg       0.90      0.90      0.90     12357\n",
      "   macro avg       0.79      0.60      0.64     12357\n",
      "weighted avg       0.88      0.90      0.88     12357\n",
      "\n"
     ]
    }
   ],
   "source": [
    "# Lets run our Second model\n",
    "\n",
    "ad_model = AdaBoostClassifier()\n",
    "ad_model.fit(train_x,train_y)\n",
    "\n",
    "ad_pred = ad_model.predict(test_x)\n",
    "\n",
    "print('Accuracy : ', accuracy_score(test_y, ad_pred) * 100)\n",
    "print(\"-----------\")\n",
    "print('Classification Report')\n",
    "print(classification_report(test_y, ad_pred))"
   ]
  },
  {
   "cell_type": "code",
   "execution_count": 137,
   "metadata": {},
   "outputs": [
    {
     "name": "stdout",
     "output_type": "stream",
     "text": [
      "Accuracy :  89.9975722262685\n",
      "-----------\n",
      "Classification Report\n",
      "              precision    recall  f1-score   support\n",
      "\n",
      "           0       0.91      0.99      0.95     10975\n",
      "           1       0.67      0.21      0.32      1382\n",
      "\n",
      "   micro avg       0.90      0.90      0.90     12357\n",
      "   macro avg       0.79      0.60      0.63     12357\n",
      "weighted avg       0.88      0.90      0.88     12357\n",
      "\n"
     ]
    }
   ],
   "source": [
    "# Lets run our Third model\n",
    "\n",
    "lg_model = LogisticRegression()\n",
    "lg_model.fit(train_x,train_y)\n",
    "\n",
    "lg_pred = lg_model.predict(test_x)\n",
    "\n",
    "print('Accuracy : ', accuracy_score(test_y, lg_pred) * 100)\n",
    "print(\"-----------\")\n",
    "print('Classification Report')\n",
    "print(classification_report(test_y, lg_pred))"
   ]
  },
  {
   "cell_type": "code",
   "execution_count": 138,
   "metadata": {},
   "outputs": [
    {
     "name": "stdout",
     "output_type": "stream",
     "text": [
      "Accuracy :  90.15942380836772\n",
      "-----------\n",
      "Classification Report\n",
      "              precision    recall  f1-score   support\n",
      "\n",
      "           0       0.91      0.99      0.95     10975\n",
      "           1       0.68      0.23      0.34      1382\n",
      "\n",
      "   micro avg       0.90      0.90      0.90     12357\n",
      "   macro avg       0.79      0.61      0.65     12357\n",
      "weighted avg       0.88      0.90      0.88     12357\n",
      "\n"
     ]
    }
   ],
   "source": [
    "# Lets run our Fourth model\n",
    "\n",
    "xgb_model = XGBClassifier()\n",
    "xgb_model.fit(train_x,train_y)\n",
    "\n",
    "xgb_pred = xgb_model.predict(test_x)\n",
    "\n",
    "print('Accuracy : ', accuracy_score(test_y, xgb_pred) * 100)\n",
    "print(\"-----------\")\n",
    "print('Classification Report')\n",
    "print(classification_report(test_y, xgb_pred))"
   ]
  },
  {
   "cell_type": "code",
   "execution_count": 139,
   "metadata": {},
   "outputs": [
    {
     "name": "stdout",
     "output_type": "stream",
     "text": [
      "Accuracy :  89.11548110382779\n",
      "-----------\n",
      "Classification Report\n",
      "              precision    recall  f1-score   support\n",
      "\n",
      "           0       0.93      0.95      0.94     10975\n",
      "           1       0.52      0.44      0.48      1382\n",
      "\n",
      "   micro avg       0.89      0.89      0.89     12357\n",
      "   macro avg       0.72      0.69      0.71     12357\n",
      "weighted avg       0.88      0.89      0.89     12357\n",
      "\n"
     ]
    }
   ],
   "source": [
    "# Lets run our Fourth model while tuning some parameters\n",
    "\n",
    "xgb_model = XGBClassifier(base_score=0.4, scale_pos_weight=2,n_estimators=150)\n",
    "xgb_model.fit(train_x,train_y)\n",
    "\n",
    "xgb_pred = xgb_model.predict(test_x)\n",
    "\n",
    "print('Accuracy : ', accuracy_score(test_y, xgb_pred) * 100)\n",
    "print(\"-----------\")\n",
    "print('Classification Report')\n",
    "print(classification_report(test_y, xgb_pred))\n",
    "\n",
    "# Here we have an increase in the F1 score for class 1, pretty good"
   ]
  },
  {
   "cell_type": "markdown",
   "metadata": {},
   "source": [
    "- Again Since we have imbalanced class here, let's play with some oversampling Technique to overcome the imbalanced nature."
   ]
  },
  {
   "cell_type": "code",
   "execution_count": 140,
   "metadata": {},
   "outputs": [],
   "source": [
    "# We will SMOTE ( Synthetic Minority Over-Sampling Technique ) to handle our imbalanced class\n",
    "\n",
    "os = SMOTE(random_state=0)\n",
    "\n",
    "os_data_x,os_data_y=os.fit_sample(train_x,train_y)\n",
    "os_data_x = pd.DataFrame(data=os_data_x,columns=train_x.columns )\n",
    "os_data_y= pd.DataFrame(data=os_data_y,columns=[\"Product_Bought\"])"
   ]
  },
  {
   "cell_type": "code",
   "execution_count": 141,
   "metadata": {},
   "outputs": [
    {
     "data": {
      "text/plain": [
       "((51146, 62), (51146, 1))"
      ]
     },
     "execution_count": 141,
     "metadata": {},
     "output_type": "execute_result"
    }
   ],
   "source": [
    "os_data_x.shape , os_data_y.shape"
   ]
  },
  {
   "cell_type": "code",
   "execution_count": 142,
   "metadata": {},
   "outputs": [
    {
     "name": "stdout",
     "output_type": "stream",
     "text": [
      "Accuracy :  88.89698146799385\n",
      "-----------\n",
      "Classification Report\n",
      "              precision    recall  f1-score   support\n",
      "\n",
      "           0       0.93      0.95      0.94     10975\n",
      "           1       0.50      0.39      0.44      1382\n",
      "\n",
      "   micro avg       0.89      0.89      0.89     12357\n",
      "   macro avg       0.71      0.67      0.69     12357\n",
      "weighted avg       0.88      0.89      0.88     12357\n",
      "\n"
     ]
    }
   ],
   "source": [
    "# Lets again run our model to see if we get some good results\n",
    "\n",
    "xgb_model_bal = XGBClassifier(base_score=0.5, scale_pos_weight=1,n_estimators=80)\n",
    "xgb_model_bal.fit(os_data_x,os_data_y)\n",
    "\n",
    "xgb_pred = xgb_model_bal.predict(test_x)\n",
    "\n",
    "print('Accuracy : ', accuracy_score(test_y, xgb_pred) * 100)\n",
    "print(\"-----------\")\n",
    "print('Classification Report')\n",
    "print(classification_report(test_y, xgb_pred))\n",
    "\n",
    "# Also here we dont get much increase in the F1 Score."
   ]
  },
  {
   "cell_type": "code",
   "execution_count": 143,
   "metadata": {},
   "outputs": [
    {
     "data": {
      "text/html": [
       "<div>\n",
       "<style scoped>\n",
       "    .dataframe tbody tr th:only-of-type {\n",
       "        vertical-align: middle;\n",
       "    }\n",
       "\n",
       "    .dataframe tbody tr th {\n",
       "        vertical-align: top;\n",
       "    }\n",
       "\n",
       "    .dataframe thead th {\n",
       "        text-align: right;\n",
       "    }\n",
       "</style>\n",
       "<table border=\"1\" class=\"dataframe\">\n",
       "  <thead>\n",
       "    <tr style=\"text-align: right;\">\n",
       "      <th></th>\n",
       "      <th>importances</th>\n",
       "    </tr>\n",
       "  </thead>\n",
       "  <tbody>\n",
       "    <tr>\n",
       "      <th>euribor3m</th>\n",
       "      <td>0.211100</td>\n",
       "    </tr>\n",
       "    <tr>\n",
       "      <th>age</th>\n",
       "      <td>0.139742</td>\n",
       "    </tr>\n",
       "    <tr>\n",
       "      <th>campaign</th>\n",
       "      <td>0.083251</td>\n",
       "    </tr>\n",
       "    <tr>\n",
       "      <th>cons.conf.idx</th>\n",
       "      <td>0.066402</td>\n",
       "    </tr>\n",
       "    <tr>\n",
       "      <th>nr.employed</th>\n",
       "      <td>0.037661</td>\n",
       "    </tr>\n",
       "    <tr>\n",
       "      <th>cons.price.idx</th>\n",
       "      <td>0.036670</td>\n",
       "    </tr>\n",
       "    <tr>\n",
       "      <th>contact_cellular</th>\n",
       "      <td>0.032706</td>\n",
       "    </tr>\n",
       "    <tr>\n",
       "      <th>day_of_week_mon</th>\n",
       "      <td>0.031715</td>\n",
       "    </tr>\n",
       "    <tr>\n",
       "      <th>pdays</th>\n",
       "      <td>0.030723</td>\n",
       "    </tr>\n",
       "    <tr>\n",
       "      <th>poutcome_failure</th>\n",
       "      <td>0.028741</td>\n",
       "    </tr>\n",
       "    <tr>\n",
       "      <th>education_university.degree</th>\n",
       "      <td>0.018831</td>\n",
       "    </tr>\n",
       "    <tr>\n",
       "      <th>month_oct</th>\n",
       "      <td>0.015857</td>\n",
       "    </tr>\n",
       "    <tr>\n",
       "      <th>job_blue-collar</th>\n",
       "      <td>0.013875</td>\n",
       "    </tr>\n",
       "    <tr>\n",
       "      <th>month_may</th>\n",
       "      <td>0.013875</td>\n",
       "    </tr>\n",
       "    <tr>\n",
       "      <th>day_of_week_wed</th>\n",
       "      <td>0.012884</td>\n",
       "    </tr>\n",
       "    <tr>\n",
       "      <th>emp.var.rate</th>\n",
       "      <td>0.012884</td>\n",
       "    </tr>\n",
       "    <tr>\n",
       "      <th>previous</th>\n",
       "      <td>0.011893</td>\n",
       "    </tr>\n",
       "    <tr>\n",
       "      <th>day_of_week_thu</th>\n",
       "      <td>0.011893</td>\n",
       "    </tr>\n",
       "    <tr>\n",
       "      <th>default_no</th>\n",
       "      <td>0.011893</td>\n",
       "    </tr>\n",
       "    <tr>\n",
       "      <th>month_mar</th>\n",
       "      <td>0.009911</td>\n",
       "    </tr>\n",
       "    <tr>\n",
       "      <th>education_unknown</th>\n",
       "      <td>0.009911</td>\n",
       "    </tr>\n",
       "    <tr>\n",
       "      <th>day_of_week_fri</th>\n",
       "      <td>0.008920</td>\n",
       "    </tr>\n",
       "    <tr>\n",
       "      <th>education_basic.4y</th>\n",
       "      <td>0.008920</td>\n",
       "    </tr>\n",
       "    <tr>\n",
       "      <th>poutcome_success</th>\n",
       "      <td>0.007929</td>\n",
       "    </tr>\n",
       "    <tr>\n",
       "      <th>marital_divorced</th>\n",
       "      <td>0.007929</td>\n",
       "    </tr>\n",
       "    <tr>\n",
       "      <th>month_apr</th>\n",
       "      <td>0.006938</td>\n",
       "    </tr>\n",
       "    <tr>\n",
       "      <th>education_basic.9y</th>\n",
       "      <td>0.006938</td>\n",
       "    </tr>\n",
       "    <tr>\n",
       "      <th>loan_yes</th>\n",
       "      <td>0.006938</td>\n",
       "    </tr>\n",
       "    <tr>\n",
       "      <th>housing_unknown</th>\n",
       "      <td>0.006938</td>\n",
       "    </tr>\n",
       "    <tr>\n",
       "      <th>job_student</th>\n",
       "      <td>0.006938</td>\n",
       "    </tr>\n",
       "    <tr>\n",
       "      <th>...</th>\n",
       "      <td>...</td>\n",
       "    </tr>\n",
       "    <tr>\n",
       "      <th>job_entrepreneur</th>\n",
       "      <td>0.005946</td>\n",
       "    </tr>\n",
       "    <tr>\n",
       "      <th>housing_no</th>\n",
       "      <td>0.005946</td>\n",
       "    </tr>\n",
       "    <tr>\n",
       "      <th>job_services</th>\n",
       "      <td>0.005946</td>\n",
       "    </tr>\n",
       "    <tr>\n",
       "      <th>marital_single</th>\n",
       "      <td>0.005946</td>\n",
       "    </tr>\n",
       "    <tr>\n",
       "      <th>job_management</th>\n",
       "      <td>0.004955</td>\n",
       "    </tr>\n",
       "    <tr>\n",
       "      <th>job_self-employed</th>\n",
       "      <td>0.004955</td>\n",
       "    </tr>\n",
       "    <tr>\n",
       "      <th>loan_no</th>\n",
       "      <td>0.004955</td>\n",
       "    </tr>\n",
       "    <tr>\n",
       "      <th>job_technician</th>\n",
       "      <td>0.004955</td>\n",
       "    </tr>\n",
       "    <tr>\n",
       "      <th>month_aug</th>\n",
       "      <td>0.003964</td>\n",
       "    </tr>\n",
       "    <tr>\n",
       "      <th>job_retired</th>\n",
       "      <td>0.003964</td>\n",
       "    </tr>\n",
       "    <tr>\n",
       "      <th>day_of_week_tue</th>\n",
       "      <td>0.002973</td>\n",
       "    </tr>\n",
       "    <tr>\n",
       "      <th>job_unknown</th>\n",
       "      <td>0.002973</td>\n",
       "    </tr>\n",
       "    <tr>\n",
       "      <th>month_nov</th>\n",
       "      <td>0.002973</td>\n",
       "    </tr>\n",
       "    <tr>\n",
       "      <th>education_professional.course</th>\n",
       "      <td>0.002973</td>\n",
       "    </tr>\n",
       "    <tr>\n",
       "      <th>job_admin.</th>\n",
       "      <td>0.002973</td>\n",
       "    </tr>\n",
       "    <tr>\n",
       "      <th>month_dec</th>\n",
       "      <td>0.001982</td>\n",
       "    </tr>\n",
       "    <tr>\n",
       "      <th>marital_married</th>\n",
       "      <td>0.001982</td>\n",
       "    </tr>\n",
       "    <tr>\n",
       "      <th>housing_yes</th>\n",
       "      <td>0.001982</td>\n",
       "    </tr>\n",
       "    <tr>\n",
       "      <th>month_jun</th>\n",
       "      <td>0.000991</td>\n",
       "    </tr>\n",
       "    <tr>\n",
       "      <th>education_basic.6y</th>\n",
       "      <td>0.000991</td>\n",
       "    </tr>\n",
       "    <tr>\n",
       "      <th>job_unemployed</th>\n",
       "      <td>0.000991</td>\n",
       "    </tr>\n",
       "    <tr>\n",
       "      <th>education_high.school</th>\n",
       "      <td>0.000991</td>\n",
       "    </tr>\n",
       "    <tr>\n",
       "      <th>job_housemaid</th>\n",
       "      <td>0.000991</td>\n",
       "    </tr>\n",
       "    <tr>\n",
       "      <th>default_unknown</th>\n",
       "      <td>0.000000</td>\n",
       "    </tr>\n",
       "    <tr>\n",
       "      <th>contact_telephone</th>\n",
       "      <td>0.000000</td>\n",
       "    </tr>\n",
       "    <tr>\n",
       "      <th>loan_unknown</th>\n",
       "      <td>0.000000</td>\n",
       "    </tr>\n",
       "    <tr>\n",
       "      <th>education_illiterate</th>\n",
       "      <td>0.000000</td>\n",
       "    </tr>\n",
       "    <tr>\n",
       "      <th>default_yes</th>\n",
       "      <td>0.000000</td>\n",
       "    </tr>\n",
       "    <tr>\n",
       "      <th>poutcome_nonexistent</th>\n",
       "      <td>0.000000</td>\n",
       "    </tr>\n",
       "    <tr>\n",
       "      <th>marital_unknown</th>\n",
       "      <td>0.000000</td>\n",
       "    </tr>\n",
       "  </tbody>\n",
       "</table>\n",
       "<p>62 rows × 1 columns</p>\n",
       "</div>"
      ],
      "text/plain": [
       "                               importances\n",
       "euribor3m                         0.211100\n",
       "age                               0.139742\n",
       "campaign                          0.083251\n",
       "cons.conf.idx                     0.066402\n",
       "nr.employed                       0.037661\n",
       "cons.price.idx                    0.036670\n",
       "contact_cellular                  0.032706\n",
       "day_of_week_mon                   0.031715\n",
       "pdays                             0.030723\n",
       "poutcome_failure                  0.028741\n",
       "education_university.degree       0.018831\n",
       "month_oct                         0.015857\n",
       "job_blue-collar                   0.013875\n",
       "month_may                         0.013875\n",
       "day_of_week_wed                   0.012884\n",
       "emp.var.rate                      0.012884\n",
       "previous                          0.011893\n",
       "day_of_week_thu                   0.011893\n",
       "default_no                        0.011893\n",
       "month_mar                         0.009911\n",
       "education_unknown                 0.009911\n",
       "day_of_week_fri                   0.008920\n",
       "education_basic.4y                0.008920\n",
       "poutcome_success                  0.007929\n",
       "marital_divorced                  0.007929\n",
       "month_apr                         0.006938\n",
       "education_basic.9y                0.006938\n",
       "loan_yes                          0.006938\n",
       "housing_unknown                   0.006938\n",
       "job_student                       0.006938\n",
       "...                                    ...\n",
       "job_entrepreneur                  0.005946\n",
       "housing_no                        0.005946\n",
       "job_services                      0.005946\n",
       "marital_single                    0.005946\n",
       "job_management                    0.004955\n",
       "job_self-employed                 0.004955\n",
       "loan_no                           0.004955\n",
       "job_technician                    0.004955\n",
       "month_aug                         0.003964\n",
       "job_retired                       0.003964\n",
       "day_of_week_tue                   0.002973\n",
       "job_unknown                       0.002973\n",
       "month_nov                         0.002973\n",
       "education_professional.course     0.002973\n",
       "job_admin.                        0.002973\n",
       "month_dec                         0.001982\n",
       "marital_married                   0.001982\n",
       "housing_yes                       0.001982\n",
       "month_jun                         0.000991\n",
       "education_basic.6y                0.000991\n",
       "job_unemployed                    0.000991\n",
       "education_high.school             0.000991\n",
       "job_housemaid                     0.000991\n",
       "default_unknown                   0.000000\n",
       "contact_telephone                 0.000000\n",
       "loan_unknown                      0.000000\n",
       "education_illiterate              0.000000\n",
       "default_yes                       0.000000\n",
       "poutcome_nonexistent              0.000000\n",
       "marital_unknown                   0.000000\n",
       "\n",
       "[62 rows x 1 columns]"
      ]
     },
     "execution_count": 143,
     "metadata": {},
     "output_type": "execute_result"
    }
   ],
   "source": [
    "# Let us check which features are contributing much in the prediction, and can we play around with the useful features.\n",
    "# Since XGBClassifier gave us better results before using synthetic oversampling, we will check which features are playing \n",
    "# an important role\n",
    "\n",
    "xgb_feature_importances = pd.DataFrame(xgb_model.feature_importances_, index= train_x.columns , columns = ['importances'])\n",
    "xgb_feature_importances = xgb_feature_importances.sort_values('importances' , ascending=False)\n",
    "xgb_feature_importances"
   ]
  },
  {
   "cell_type": "markdown",
   "metadata": {},
   "source": [
    "- Okay with this we can say that euribor3m column and age column are contributing very much for our prediction\n",
    "- Next is campaign and cons.conf.indx , we'll check if we can do some feature engineering on that part"
   ]
  },
  {
   "cell_type": "code",
   "execution_count": 144,
   "metadata": {},
   "outputs": [
    {
     "data": {
      "text/plain": [
       "4.962    3.103448\n",
       "1.365    2.931034\n",
       "1.405    2.909483\n",
       "4.963    2.715517\n",
       "1.266    2.241379\n",
       "1.260    2.198276\n",
       "4.961    1.939655\n",
       "0.715    1.831897\n",
       "0.879    1.810345\n",
       "0.714    1.573276\n",
       "4.857    1.551724\n",
       "4.965    1.379310\n",
       "1.281    1.357759\n",
       "1.250    1.293103\n",
       "4.968    1.228448\n",
       "1.354    1.228448\n",
       "4.960    1.228448\n",
       "4.964    1.185345\n",
       "4.864    1.142241\n",
       "4.957    1.142241\n",
       "0.884    1.077586\n",
       "1.262    1.077586\n",
       "4.076    1.077586\n",
       "4.966    1.034483\n",
       "0.720    1.012931\n",
       "4.120    0.926724\n",
       "1.291    0.883621\n",
       "1.268    0.862069\n",
       "4.860    0.818966\n",
       "0.883    0.818966\n",
       "           ...   \n",
       "4.406    0.043103\n",
       "0.732    0.043103\n",
       "0.750    0.043103\n",
       "1.224    0.043103\n",
       "1.030    0.043103\n",
       "4.592    0.043103\n",
       "0.713    0.043103\n",
       "4.343    0.043103\n",
       "0.690    0.043103\n",
       "1.778    0.043103\n",
       "4.918    0.043103\n",
       "1.584    0.043103\n",
       "4.474    0.043103\n",
       "0.993    0.043103\n",
       "1.007    0.043103\n",
       "0.933    0.021552\n",
       "0.711    0.021552\n",
       "0.895    0.021552\n",
       "1.629    0.021552\n",
       "0.771    0.021552\n",
       "0.766    0.021552\n",
       "0.944    0.021552\n",
       "0.749    0.021552\n",
       "0.700    0.021552\n",
       "0.752    0.021552\n",
       "0.965    0.021552\n",
       "3.053    0.021552\n",
       "0.921    0.021552\n",
       "1.018    0.021552\n",
       "1.384    0.021552\n",
       "Name: euribor3m, Length: 287, dtype: float64"
      ]
     },
     "execution_count": 144,
     "metadata": {},
     "output_type": "execute_result"
    }
   ],
   "source": [
    "bank_2[bank_2['Product_Bought']==1]['euribor3m'].value_counts() / len(bank_2[bank_2['Product_Bought']==1]) * 100"
   ]
  },
  {
   "cell_type": "markdown",
   "metadata": {},
   "source": [
    "- We see a good no of sales if our eurobor 3 month rate is above 4.8. Let's check if its true"
   ]
  },
  {
   "cell_type": "code",
   "execution_count": 145,
   "metadata": {},
   "outputs": [
    {
     "data": {
      "text/plain": [
       "0    95.252744\n",
       "1     4.747256\n",
       "Name: Product_Bought, dtype: float64"
      ]
     },
     "execution_count": 145,
     "metadata": {},
     "output_type": "execute_result"
    }
   ],
   "source": [
    "bank_2[bank_2['euribor3m']>4.8]['Product_Bought'].value_counts() / len(bank_2[bank_2['euribor3m']>4.8]) * 100"
   ]
  },
  {
   "cell_type": "code",
   "execution_count": 146,
   "metadata": {},
   "outputs": [
    {
     "data": {
      "text/plain": [
       "0    94.419568\n",
       "1     5.580432\n",
       "Name: Product_Bought, dtype: float64"
      ]
     },
     "execution_count": 146,
     "metadata": {},
     "output_type": "execute_result"
    }
   ],
   "source": [
    "bank_2[bank_2['euribor3m']>4.9]['Product_Bought'].value_counts() / len(bank_2[bank_2['euribor3m']>4.9]) * 100"
   ]
  },
  {
   "cell_type": "markdown",
   "metadata": {},
   "source": [
    "- Here we see if our euribor 3 month rate is more than 4.9 our sale has increased by almost 1 %"
   ]
  },
  {
   "cell_type": "code",
   "execution_count": 147,
   "metadata": {},
   "outputs": [
    {
     "name": "stdout",
     "output_type": "stream",
     "text": [
      "The % of conversion when we target with people of Age >20 :\n",
      "0    88.835022\n",
      "1    11.164978\n",
      "Name: Product_Bought, dtype: float64\n",
      "---------\n",
      "---------\n",
      "The % of conversion when we target with people of Age >30 :\n",
      "0    89.599172\n",
      "1    10.400828\n",
      "Name: Product_Bought, dtype: float64\n",
      "---------\n",
      "---------\n",
      "The % of conversion when we target with people of Age >40 :\n",
      "0    88.983927\n",
      "1    11.016073\n",
      "Name: Product_Bought, dtype: float64\n",
      "---------\n",
      "---------\n",
      "The % of conversion when we target with people of Age >50 :\n",
      "0    84.930362\n",
      "1    15.069638\n",
      "Name: Product_Bought, dtype: float64\n",
      "---------\n",
      "---------\n",
      "The % of conversion when we target with people of Age >55 :\n",
      "0    79.313233\n",
      "1    20.686767\n",
      "Name: Product_Bought, dtype: float64\n",
      "---------\n",
      "---------\n",
      "The % of conversion when we target with people of Age >60 :\n",
      "0    54.505495\n",
      "1    45.494505\n",
      "Name: Product_Bought, dtype: float64\n",
      "---------\n",
      "---------\n",
      "The % of conversion when we target with people of Age >65 :\n",
      "0    53.150242\n",
      "1    46.849758\n",
      "Name: Product_Bought, dtype: float64\n",
      "---------\n",
      "---------\n",
      "The % of conversion when we target with people of Age >70 :\n",
      "0    52.132701\n",
      "1    47.867299\n",
      "Name: Product_Bought, dtype: float64\n",
      "---------\n",
      "---------\n"
     ]
    }
   ],
   "source": [
    "# Lets check with age colum\n",
    "\n",
    "print('The % of conversion when we target with people of Age >20 :')\n",
    "print(bank_2[bank_2['age']>20]['Product_Bought'].value_counts() / len(bank_2[bank_2['age']>20]) * 100)\n",
    "print('---------')\n",
    "print('---------')\n",
    "print('The % of conversion when we target with people of Age >30 :')\n",
    "print(bank_2[bank_2['age']>30]['Product_Bought'].value_counts() / len(bank_2[bank_2['age']>30]) * 100)\n",
    "print('---------')\n",
    "print('---------')\n",
    "print('The % of conversion when we target with people of Age >40 :')\n",
    "print(bank_2[bank_2['age']>40]['Product_Bought'].value_counts() / len(bank_2[bank_2['age']>40]) * 100)\n",
    "print('---------')\n",
    "print('---------')\n",
    "print('The % of conversion when we target with people of Age >50 :')\n",
    "print(bank_2[bank_2['age']>50]['Product_Bought'].value_counts() / len(bank_2[bank_2['age']>50]) * 100)\n",
    "print('---------')\n",
    "print('---------')\n",
    "print('The % of conversion when we target with people of Age >55 :')\n",
    "print(bank_2[bank_2['age']>55]['Product_Bought'].value_counts() / len(bank_2[bank_2['age']>55]) * 100)\n",
    "print('---------')\n",
    "print('---------')\n",
    "print('The % of conversion when we target with people of Age >60 :')\n",
    "print(bank_2[bank_2['age']>60]['Product_Bought'].value_counts() / len(bank_2[bank_2['age']>60]) * 100)\n",
    "print('---------')\n",
    "print('---------')\n",
    "print('The % of conversion when we target with people of Age >65 :')\n",
    "print(bank_2[bank_2['age']>65]['Product_Bought'].value_counts() / len(bank_2[bank_2['age']>65]) * 100)\n",
    "print('---------')\n",
    "print('---------')\n",
    "print('The % of conversion when we target with people of Age >70 :')\n",
    "print(bank_2[bank_2['age']>70]['Product_Bought'].value_counts() / len(bank_2[bank_2['age']>70]) * 100)\n",
    "print('---------')\n",
    "print('---------')"
   ]
  },
  {
   "cell_type": "markdown",
   "metadata": {},
   "source": [
    "- Here we see if we target our customer with age greater than 50, our sales rate increases with a good amount\n",
    "- Also we see almost 50% of customers targeted with age above 60 have bought our product\n",
    "- So we should check more on our seniour customers including middle aged and young customers"
   ]
  },
  {
   "cell_type": "code",
   "execution_count": 148,
   "metadata": {},
   "outputs": [],
   "source": [
    "# Lets create bins of our age column to visualise better\n",
    "\n",
    "bank_2['age_bins'] = np.where(bank_2['age'] >20 ,'2 (Btwn 20 & 30)','1 (less than 20)')\n",
    "bank_2['age_bins'] = np.where(bank_2['age'] >30 ,'3 (Btwn 30 & 40)',bank_2['age_bins'])\n",
    "bank_2['age_bins'] = np.where(bank_2['age'] >40 ,'4 (Btwn 40 & 50)',bank_2['age_bins'])\n",
    "bank_2['age_bins'] = np.where(bank_2['age'] >50 ,'5 (Btwn 50 & 60)',bank_2['age_bins'])\n",
    "bank_2['age_bins'] = np.where(bank_2['age'] >60 ,'6 (Btwn 60 & 70)',bank_2['age_bins'])\n",
    "bank_2['age_bins'] = np.where(bank_2['age'] >70 ,'7 (Above 70)',bank_2['age_bins'])"
   ]
  },
  {
   "cell_type": "code",
   "execution_count": 149,
   "metadata": {},
   "outputs": [
    {
     "data": {
      "text/plain": [
       "3 (Btwn 30 & 40)    16385\n",
       "4 (Btwn 40 & 50)    10240\n",
       "2 (Btwn 20 & 30)     7243\n",
       "5 (Btwn 50 & 60)     6270\n",
       "6 (Btwn 60 & 70)      488\n",
       "7 (Above 70)          422\n",
       "1 (less than 20)      140\n",
       "Name: age_bins, dtype: int64"
      ]
     },
     "execution_count": 149,
     "metadata": {},
     "output_type": "execute_result"
    }
   ],
   "source": [
    "bank_2['age_bins'].value_counts()"
   ]
  },
  {
   "cell_type": "code",
   "execution_count": 150,
   "metadata": {},
   "outputs": [
    {
     "data": {
      "image/png": "[encoded data removed]",
      "text/plain": [
       "<Figure size 691.2x864 with 7 Axes>"
      ]
     },
     "metadata": {},
     "output_type": "display_data"
    }
   ],
   "source": [
    "# Lets visualize with Age_Bins Column\n",
    "\n",
    "\n",
    "sns.set(font_scale=1.4)\n",
    "sns.set_style('whitegrid')\n",
    "\n",
    "sns.factorplot(\"Product_Bought\", col='age_bins',col_wrap=3,\n",
    "                 data=bank_2,\n",
    "                 kind=\"count\", aspect=.8 ,palette=[\"C8\", \"C9\"])\n",
    "\n",
    "plt.tight_layout()\n",
    "plt.show()"
   ]
  },
  {
   "cell_type": "code",
   "execution_count": 151,
   "metadata": {},
   "outputs": [
    {
     "name": "stdout",
     "output_type": "stream",
     "text": [
      "The Percentage of Products sold with age Between 30 & 50 :\n",
      "0    90.858216\n",
      "1     9.141784\n",
      "Name: Product_Bought, dtype: float64\n"
     ]
    }
   ],
   "source": [
    "# Since we are targeting customer with age more than 30 & less than 50 , let's see our conversion rate of products sold\n",
    "# for these age group\n",
    "\n",
    "print('The Percentage of Products sold with age Between 30 & 50 :')\n",
    "print(bank_2[(bank_2['age_bins']=='3 (Btwn 30 & 40)') | (bank_2['age_bins']=='4 (Btwn 40 & 50)')]['Product_Bought'].value_counts() / len(bank_2[(bank_2['age_bins']=='3 (Btwn 30 & 40)') | (bank_2['age_bins']=='4 (Btwn 40 & 50)')]) *100)"
   ]
  },
  {
   "cell_type": "markdown",
   "metadata": {},
   "source": [
    "- This shows a lower ratio of products are being sold in the age group between 30 and 40"
   ]
  },
  {
   "cell_type": "code",
   "execution_count": 152,
   "metadata": {},
   "outputs": [
    {
     "data": {
      "text/plain": [
       "92.893    11.293103\n",
       "93.075     9.525862\n",
       "93.918     8.771552\n",
       "93.444     5.840517\n",
       "92.201     5.689655\n",
       "92.963     5.689655\n",
       "93.994     5.172414\n",
       "93.200     4.094828\n",
       "94.465     4.051724\n",
       "92.431     3.879310\n",
       "94.215     3.793103\n",
       "92.649     3.620690\n",
       "93.369     3.232759\n",
       "94.199     3.232759\n",
       "92.843     2.715517\n",
       "93.876     2.629310\n",
       "94.027     2.586207\n",
       "94.055     2.306034\n",
       "92.379     2.284483\n",
       "93.749     2.090517\n",
       "94.601     2.004310\n",
       "92.713     1.896552\n",
       "92.469     1.422414\n",
       "94.767     1.250000\n",
       "93.798     0.905172\n",
       "92.756     0.021552\n",
       "Name: cons.price.idx, dtype: float64"
      ]
     },
     "execution_count": 152,
     "metadata": {},
     "output_type": "execute_result"
    }
   ],
   "source": [
    "# Let the column of consumer price index to see if it holds any good information\n",
    "\n",
    "bank_2[bank_2['Product_Bought']==1]['cons.price.idx'].value_counts() / len(bank_2[bank_2['Product_Bought']==1]) * 100"
   ]
  },
  {
   "cell_type": "code",
   "execution_count": 153,
   "metadata": {},
   "outputs": [
    {
     "name": "stdout",
     "output_type": "stream",
     "text": [
      "The Percentage of Products Bought when consumer price index is above 92.5 :\n",
      "0    89.819359\n",
      "1    10.180641\n",
      "Name: Product_Bought, dtype: float64\n",
      "-------\n",
      "-------\n",
      "The Percentage of Products Bought when consumer price index is above 93 :\n",
      "0    91.138651\n",
      "1     8.861349\n",
      "Name: Product_Bought, dtype: float64\n",
      "-------\n",
      "-------\n",
      "The Percentage of Products Bought when consumer price index is above 93.5 :\n",
      "0    91.297201\n",
      "1     8.702799\n",
      "Name: Product_Bought, dtype: float64\n",
      "-------\n",
      "-------\n",
      "The Percentage of Products Bought when consumer price index is above 94 :\n",
      "0    84.572812\n",
      "1    15.427188\n",
      "Name: Product_Bought, dtype: float64\n",
      "-------\n",
      "-------\n",
      "The Percentage of Products Bought when consumer price index is above 94.3 :\n",
      "0    92.79643\n",
      "1     7.20357\n",
      "Name: Product_Bought, dtype: float64\n",
      "-------\n",
      "-------\n",
      "The Percentage of Products Bought when consumer price index is above 94.5 :\n",
      "0    54.518072\n",
      "1    45.481928\n",
      "Name: Product_Bought, dtype: float64\n",
      "-------\n",
      "-------\n"
     ]
    }
   ],
   "source": [
    "print('The Percentage of Products Bought when consumer price index is above 92.5 :')\n",
    "print(bank_2[bank_2['cons.price.idx']>92.5]['Product_Bought'].value_counts() / len(bank_2[bank_2['cons.price.idx']>92.5]) * 100)\n",
    "print('-------')\n",
    "print('-------')\n",
    "print('The Percentage of Products Bought when consumer price index is above 93 :')\n",
    "print(bank_2[bank_2['cons.price.idx']>93]['Product_Bought'].value_counts() / len(bank_2[bank_2['cons.price.idx']>93]) * 100)\n",
    "print('-------')\n",
    "print('-------')\n",
    "print('The Percentage of Products Bought when consumer price index is above 93.5 :')\n",
    "print(bank_2[bank_2['cons.price.idx']>93.5]['Product_Bought'].value_counts() / len(bank_2[bank_2['cons.price.idx']>93.5]) * 100)\n",
    "print('-------')\n",
    "print('-------')\n",
    "print('The Percentage of Products Bought when consumer price index is above 94 :')\n",
    "print(bank_2[bank_2['cons.price.idx']>94]['Product_Bought'].value_counts() / len(bank_2[bank_2['cons.price.idx']>94]) * 100)\n",
    "print('-------')\n",
    "print('-------')\n",
    "print('The Percentage of Products Bought when consumer price index is above 94.3 :')\n",
    "print(bank_2[bank_2['cons.price.idx']>94.3]['Product_Bought'].value_counts() / len(bank_2[bank_2['cons.price.idx']>94.3]) * 100)\n",
    "print('-------')\n",
    "print('-------')\n",
    "print('The Percentage of Products Bought when consumer price index is above 94.5 :')\n",
    "print(bank_2[bank_2['cons.price.idx']>94.5]['Product_Bought'].value_counts() / len(bank_2[bank_2['cons.price.idx']>94.5]) * 100)\n",
    "print('-------')\n",
    "print('-------')"
   ]
  },
  {
   "cell_type": "markdown",
   "metadata": {},
   "source": [
    "- Again if we hold a campaign when our consumer price index is above 94.5 , almost 50% of customers have bought our product"
   ]
  },
  {
   "cell_type": "code",
   "execution_count": 154,
   "metadata": {},
   "outputs": [],
   "source": [
    "# Let's do some LabelEncoding and do a final Modelling before Wrapping it up\n",
    "\n",
    "lb = LabelEncoder()\n",
    "bank_3 = bank_2.apply(lambda x : lb.fit_transform(x))"
   ]
  },
  {
   "cell_type": "code",
   "execution_count": 155,
   "metadata": {},
   "outputs": [
    {
     "data": {
      "text/plain": [
       "((28831, 20), (12357, 20), (28831,), (12357,))"
      ]
     },
     "execution_count": 155,
     "metadata": {},
     "output_type": "execute_result"
    }
   ],
   "source": [
    "#Let's check our final model with Label Encoding and without Duration Column\n",
    "\n",
    "df_train_y = bank_3['Product_Bought']\n",
    "df_train_x = bank_3.drop('Product_Bought' , axis =1)\n",
    "\n",
    "train_x , test_x ,train_y, test_y = train_test_split(df_train_x, df_train_y , test_size = 0.3,\n",
    "                                                    random_state = 100)\n",
    "\n",
    "train_x.shape , test_x.shape , train_y.shape , test_y.shape"
   ]
  },
  {
   "cell_type": "code",
   "execution_count": 156,
   "metadata": {},
   "outputs": [
    {
     "name": "stdout",
     "output_type": "stream",
     "text": [
      "Accuracy : 88.83224083515417\n",
      "----------\n",
      "----------\n",
      "Classification Report :\n",
      " \n",
      "              precision    recall  f1-score   support\n",
      "\n",
      "           0       0.93      0.94      0.94     10975\n",
      "           1       0.50      0.44      0.47      1382\n",
      "\n",
      "   micro avg       0.89      0.89      0.89     12357\n",
      "   macro avg       0.72      0.69      0.70     12357\n",
      "weighted avg       0.88      0.89      0.89     12357\n",
      "\n",
      "----------\n",
      "----------\n",
      "Cross Validation Scores are :\n",
      " \n",
      "[0.89093116 0.88503555 0.89197156 0.88759757 0.8888118 ]\n"
     ]
    }
   ],
   "source": [
    "# Building our model\n",
    "\n",
    "xgb_model = XGBClassifier(learning_rate=0.08 , n_jobs=-1, scale_pos_weight=2 )\n",
    "xgb_model.fit(train_x,train_y)\n",
    "\n",
    "xgb_pred = xgb_model.predict(test_x)\n",
    "\n",
    "scores = cross_val_score(xgb_model, train_x,train_y, cv=5)\n",
    "\n",
    "print('Accuracy :' , accuracy_score(test_y,xgb_pred)*100)\n",
    "print('----------')\n",
    "print('----------')\n",
    "print('Classification Report :')\n",
    "print(\" \")\n",
    "print(classification_report(test_y,xgb_pred))\n",
    "print('----------')\n",
    "print('----------')\n",
    "print('Cross Validation Scores are :')\n",
    "print(\" \")\n",
    "print(scores)"
   ]
  },
  {
   "cell_type": "code",
   "execution_count": 157,
   "metadata": {},
   "outputs": [],
   "source": [
    "# As our Model is not performing for some assumptions , lets remove then\n",
    "\n",
    "bank_2 = bank_2[bank_2['marital'] != 'unknown']\n",
    "bank_2 = bank_2[bank_2['education'] != 'illiterate']\n",
    "bank_2 = bank_2[bank_2['default'] != 'yes']\n",
    "\n",
    "lb = LabelEncoder()\n",
    "bank_3 = bank_2.apply(lambda x : lb.fit_transform(x))"
   ]
  },
  {
   "cell_type": "code",
   "execution_count": 158,
   "metadata": {},
   "outputs": [
    {
     "data": {
      "text/plain": [
       "((28760, 20), (12327, 20), (28760,), (12327,))"
      ]
     },
     "execution_count": 158,
     "metadata": {},
     "output_type": "execute_result"
    }
   ],
   "source": [
    "#Let's check the model again with Label Encoding\n",
    "\n",
    "df_train_y = bank_3['Product_Bought']\n",
    "df_train_x = bank_3.drop('Product_Bought' , axis =1)\n",
    "\n",
    "train_x , test_x ,train_y, test_y = train_test_split(df_train_x, df_train_y , test_size = 0.3,\n",
    "                                                    random_state = 100)\n",
    "\n",
    "train_x.shape , test_x.shape , train_y.shape , test_y.shape"
   ]
  },
  {
   "cell_type": "code",
   "execution_count": 159,
   "metadata": {},
   "outputs": [
    {
     "name": "stdout",
     "output_type": "stream",
     "text": [
      "Accuracy : 89.07276709661718\n",
      "----------\n",
      "----------\n",
      "Classification Report :\n",
      " \n",
      "              precision    recall  f1-score   support\n",
      "\n",
      "           0       0.93      0.95      0.94     10984\n",
      "           1       0.50      0.43      0.46      1343\n",
      "\n",
      "   micro avg       0.89      0.89      0.89     12327\n",
      "   macro avg       0.71      0.69      0.70     12327\n",
      "weighted avg       0.88      0.89      0.89     12327\n",
      "\n",
      "----------\n",
      "----------\n",
      "Cross Validation Scores are :\n",
      " \n",
      "[0.89136103 0.88838665 0.89499305 0.88508345 0.88923665]\n"
     ]
    }
   ],
   "source": [
    "# Building our model again\n",
    "\n",
    "xgb_model = XGBClassifier(learning_rate=0.08 , n_jobs=-1, scale_pos_weight=2 )\n",
    "xgb_model.fit(train_x,train_y)\n",
    "\n",
    "xgb_pred = xgb_model.predict(test_x)\n",
    "\n",
    "scores = cross_val_score(xgb_model, train_x,train_y, cv=5)\n",
    "\n",
    "print('Accuracy :' , accuracy_score(test_y,xgb_pred)*100)\n",
    "print('----------')\n",
    "print('----------')\n",
    "print('Classification Report :')\n",
    "print(\" \")\n",
    "print(classification_report(test_y,xgb_pred))\n",
    "print('----------')\n",
    "print('----------')\n",
    "print('Cross Validation Scores are :')\n",
    "print(\" \")\n",
    "print(scores)"
   ]
  },
  {
   "cell_type": "markdown",
   "metadata": {},
   "source": [
    "- So our model is performing well for the above data."
   ]
  },
  {
   "cell_type": "markdown",
   "metadata": {},
   "source": [
    "### So even with our model we learn the following cases from our past data and should be implemented in the New campaign to reduce Marketing Cost and Increase Product_Bought Percentage !!\n",
    "- Call our old Customers after max of 20 days of previous campaign and engage them for more than 3-4 minutes to have an increase in the Y%\n",
    "- Bring up new schemes along with new product for our very old customers to whom we are contacting for more than 2 campaigns\n",
    "- While Contacting new customers, engage them for more than 3 minutes , to again have an increase in Y%\n",
    "- Reduce the Marketing cost Considerably in the month of May, July and rather Focus on March ,June, September , October , December as it shows a good ratio of Product_Bought against Product not Bought\n",
    "- Finding a way to sell our products to Blue-Collar and Admin Job roles , as they are the one which are giving us lesser conversion Ratio\n",
    "- With this we can have a tremendous increase in our sales of more than 4-5 % or maybe more, while decreasing our marketing cost to a large extent which we have leared from the pattern.\n",
    "\n",
    "### Now when we are coming up with new campaign, we dont know for how long a customer can hold on to the call, so the other attributes that we can look upon along with the above data is:\n",
    "- Contact Maximum customers with age greater than 50 to get higher ratio Products Sold\n",
    "- Since there is a lower conversion rate of products sold between age group 30-50 , we should follow a different stratergy or bring new products for them, or we should cut down our marketing cost of those age group and focus more with Senior Citizens.\n",
    "- Also we should contact our customer when consumer price index is greater than 94.5 to lower our Marketing Cost and have a considerable increase in Y%\n",
    "- Also instead of randomly calling to customer , we can contact Customers who have Bought Our Product in this campaign along with following points :\n",
    "    - As mentioned contact them after 20 days of this campaign.\n",
    "    - Contact customers who Use cellular phones\n",
    "    - Contact age group of people with more than 50 years of age as mentioned above\n",
    "    - As the next month is May, and with our previous data we dont see much sales in the month of May, we have to be very careful with our Marketing cost and focus on the insight that we have seen above to considerably increase our Y% and minimize our X% (Marketing Cost)"
   ]
  },
  {
   "cell_type": "markdown",
   "metadata": {},
   "source": [
    "### ** Thank You ** "
   ]
  },
  {
   "cell_type": "code",
   "execution_count": null,
   "metadata": {},
   "outputs": [],
   "source": []
  }
 ],
 "metadata": {
  "kernelspec": {
   "display_name": "Python 3",
   "language": "python",
   "name": "python3"
  },
  "language_info": {
   "codemirror_mode": {
    "name": "ipython",
    "version": 3
   },
   "file_extension": ".py",
   "mimetype": "text/x-python",
   "name": "python",
   "nbconvert_exporter": "python",
   "pygments_lexer": "ipython3",
   "version": "3.6.5"
  }
 },
 "nbformat": 4,
 "nbformat_minor": 2
}
